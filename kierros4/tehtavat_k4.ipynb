{
 "cells": [
  {
   "cell_type": "markdown",
   "id": "6094c2d3",
   "metadata": {},
   "source": [
    "## Tehtävä 1: Rekisteröityminen IBM:n palveluun\n",
    "\n",
    "Tehtävän tavoiteena on varmistaa että jokainen on saanut oman avaimen eli tokenin aktivoitua qiskit-palvelussa.\n",
    "\n",
    "1. Tee IBMid-käyttäjä [tästä](https://login.ibm.com)\n",
    "\n",
    "2. Kopioi API token [IBM Quantum Experiencen käyttäjäsivulta](https://quantum-computing.ibm.com/account) \n",
    "\n",
    "3. Liitä API token heittomerkkien sisään, ja aja koodi"
   ]
  },
  {
   "cell_type": "code",
   "execution_count": null,
   "id": "f3021956",
   "metadata": {},
   "outputs": [],
   "source": [
    "from qiskit import *\n",
    "from qiskit.visualization import *\n",
    "IBMQ.save_account(\"token_tähän\", overwrite=True)\n",
    "provider = IBMQ.load_account()"
   ]
  },
  {
   "cell_type": "markdown",
   "id": "85a5d31f",
   "metadata": {},
   "source": [
    "## Tehtävä 2: Ohjelmoi seuraava kvanttipiiri, ja simuloi se.\n",
    "![](images/qc.png)"
   ]
  },
  {
   "cell_type": "code",
   "execution_count": null,
   "id": "9ff2132b",
   "metadata": {},
   "outputs": [],
   "source": [
    "qc = QuantumCircuit(2)\n",
    "\n",
    "# Ohjelmoi tähän kuvan kvanttipiiri\n",
    "\n",
    "qc.measure_all()\n",
    "qc.draw(output='mpl')"
   ]
  },
  {
   "cell_type": "code",
   "execution_count": null,
   "id": "150933c4",
   "metadata": {},
   "outputs": [],
   "source": [
    "backend = Aer.get_backend('aer_simulator')\n",
    "plot_histogram(backend.run(qc).result().get_counts())"
   ]
  },
  {
   "cell_type": "markdown",
   "id": "fd22c8ef",
   "metadata": {},
   "source": [
    "## Tehtävä 3: Aja sama ohjelma kvanttitietokoneella."
   ]
  },
  {
   "cell_type": "code",
   "execution_count": null,
   "id": "b1c735e7",
   "metadata": {},
   "outputs": [],
   "source": [
    "provider = IBMQ.get_provider(\"ibm-q\")\n",
    "\n",
    "from qiskit.providers.ibmq import least_busy\n",
    "device = least_busy(provider.backends(filters=lambda x: x.configuration().num_qubits >= 2 and not x.configuration().simulator and x.status().operational==True))\n",
    "print(\"least busy backend: \", device)\n",
    "\n",
    "from qiskit.tools.monitor import job_monitor\n",
    "transpiled = transpile(qc, device, optimization_level=3)\n",
    "\n",
    "display(transpiled.draw(output='mpl'))\n",
    "\n",
    "job = device.run(transpiled)\n",
    "job_monitor(job, interval=2)"
   ]
  },
  {
   "cell_type": "code",
   "execution_count": null,
   "id": "772f3fca",
   "metadata": {},
   "outputs": [],
   "source": [
    "results = job.result()\n",
    "answer = results.get_counts(qc)\n",
    "plot_histogram(answer)"
   ]
  }
 ],
 "metadata": {
  "kernelspec": {
   "display_name": "Python 3 (ipykernel)",
   "language": "python",
   "name": "python3"
  },
  "language_info": {
   "codemirror_mode": {
    "name": "ipython",
    "version": 3
   },
   "file_extension": ".py",
   "mimetype": "text/x-python",
   "name": "python",
   "nbconvert_exporter": "python",
   "pygments_lexer": "ipython3",
   "version": "3.10.0"
  }
 },
 "nbformat": 4,
 "nbformat_minor": 5
}
