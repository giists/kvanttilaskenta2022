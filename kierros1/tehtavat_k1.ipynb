{
 "cells": [
  {
   "cell_type": "markdown",
   "metadata": {},
   "source": [
    "# Tervetuloa kvanttilaskennan lukiokurssille kevät 2022, 4.perioidi\n",
    "\n",
    "Luennot KE klo 15.00 - 16.15 ja harjoitukset 8-palkissa MA klo 15.00 - 16.15.  Kurssi alkaa KE 9.2.2022. \n",
    "\n",
    "Luennot ja harjoitukset julkaistaan verkkoon osallistua voi myös etänä, jos sinulla ei ole mahdollisuutta osallistua lähiopetukseen esimerkiksi sairauden tai muun syyn takia. Pyydä tähän lupa Matti Heikkiseltä Wilma-viestillä. Viikottaisia kokoontumisia on yleensä 2 oppituntia. Keskiviikkoisin on luento ja maanantaisin opastettu laskuharjoitus, tehtävät voi palauttaa viikottain perjantaina klo 16.15 mennessä. Voit siis osallistua kurssille myös siten, että seuraat luentojen harjoitusten tallenteita omalla ajalla.\n",
    "\n",
    "## Luentojen ja laskuharjoitusten Meet-linkki ja tiedottaminen\n",
    "\n",
    "Olet saanut pysyvän Meet-linkin sähköpostiisi tai Wilma-viestillä. Luennoilla ja harjoituksissa käytetään __aina samaa linkkiä__.\n",
    "\n",
    "\n",
    "Seuraa kurssin tiedottamista sähköpostissasi, Google Classroomissa ja GitHubissa.\n",
    "\n",
    "## Ohjelmointiympäristö\n",
    "\n",
    "\n",
    "\n",
    "Omalle koneelle asennettu paikallinen Jupyter-ympäristö, asennusohjeet (advanced users):\n",
    "  * <a href=\"https://qiskit.org/documentation/install.html\" target =\"_blank\">IBM QISKIT Installation</a>\n",
    "    \n",
    "  * <a href=\"https://drive.google.com/file/d/1wkgPYrJ15oS_SI0BuTMr02ASOzoA-vty/view?usp=sharing\" target =\"_blank\">Lisäohjeita Linux-käyttäjille</a>\n",
    "\n",
    "  * Jos käytät Omalla tietokoneella toimivaa Jupyter-ympäristöä, niin sinun on osattava kloonata kurssin GitHub-repositorio tehtävien lataamista varten. Pikaohje, macissa ja linuxissa komentoriviltä eli terminaalista:\n",
    "\n",
    "  * repositorion lataus komennolla: `git clone https://github.com/otaniemenlukio/kvanttilaskenta2021`\n",
    "\n",
    "  * repositorion päivitys (reposition kansiossa annettava komento): `git pull`\n",
    "\n",
    "  * Tehtävät voi myös ladatajaetusta Google-kansiosta, jonka osoitteen olet saanut sähköpostiisi.  \n",
    "\n",
    "  * Tehtävien palautus tehdään tällöin __aina samalla Google Form-lomakkeella__, jonka linkin olet saanut sähköpostiisi.\n",
    "\n",
    "\n",
    "## Laskuharjoitustehtävien lataaminen ja palautus\n",
    "\n",
    "Tehtävät voi ladata ja palauttaa kahdella eri tavalla.\n",
    "\n",
    "\n",
    "\n",
    "1) Opiskelijat, joilla on @eduespoo.fi -sähköposti palauttavat tehtävät Google Classroomiin.\n",
    "\n",
    "2) Jos sinulla ei ole @eduespoo.fi -tunnuksia, niin palauta tehtävät Google formin kautta.\n",
    "  <a href=\"https://forms.gle/AjgJzdxByZfSXhsg9\" target =\"_blank\"></a>\n",
    "\n",
    "\n"
   ]
  },
  {
   "cell_type": "markdown",
   "metadata": {},
   "source": [
    "##  Oppimateriaaleja kierros 1\n",
    "\n",
    "Läksy: katso alla listatut youtube-videot, niin sinulle muodostuu käsitys tarvittavasta matematiikasta ja kvanttifysiikan ilmiöistä. Videoiden katseluun on varattu perjantain oppitunnin aika, joka on itsenäistä opiskelua.\n",
    "\n",
    "Vektorit:\n",
    "\n",
    "<a href =\"https://youtu.be/fNk_zzaMoSs\" target =\"_blank\">Vektorit lineaarialgebrassa</a>\n",
    "\n",
    "\n",
    "\n",
    "Kvantti-interferenssi:\n",
    "\n",
    "<a href =\"https://youtu.be/Q1YqgPAtzho\" target =\"_blank\"> Kvantti-interferenssi kaksoisrakokokeessa</a>\n",
    "\n",
    "\n",
    "Kvanttimekaanisen tilan esittäminen fysiikassa:\n",
    "\n",
    "<a href=\"https://youtu.be/MzRCDLre1b4\" target =\"_blank\"> Miten tilavektori esittää fysikaalisen systeemin tilaa.</a>\n",
    "\n",
    "\n",
    "Kompleksiluvut:\n",
    "\n",
    "<a href =\"https://youtu.be/NaL_Cb42WyY\" target =\"_blank\">Kompleksiluvut</a>\n",
    "\n",
    "\n"
   ]
  },
  {
   "cell_type": "markdown",
   "metadata": {},
   "source": [
    "### Johdantoesimerkki 1 Jupyter-notebookin suorittaminen\n",
    "Kerrataan pythonin perusteet\n",
    "int muuttujat  luku1 ja luku2 saavat alkuarvot\n",
    "Komennolla print tulostetaan näytölle\n",
    "suorita ohjelma yläpaneelista painamalla \"run\"\n",
    "\n",
    "![run](images/run.png)\n",
    "\n",
    "Testaa myös mitä muista yläpaneelin pikanäppäimistä tapahtuu. Muista talentaa tiedostosi. Klikkaa lopuksi auki tämä solu, jossa on kuva yläpaneelista. Tämä solu ei ole koodiblokki, vaan markdown-kenttä. Huomaa ero."
   ]
  },
  {
   "cell_type": "code",
   "execution_count": 1,
   "metadata": {},
   "outputs": [
    {
     "name": "stdout",
     "output_type": "stream",
     "text": [
      "Valitut luvut ovat 4 ja 6\n"
     ]
    }
   ],
   "source": [
    "luku1 = 4\n",
    "luku2 = 6\n",
    "print(\"Valitut luvut ovat\", luku1, \"ja\", luku2)"
   ]
  },
  {
   "cell_type": "markdown",
   "metadata": {},
   "source": [
    "### Johdantosimerkki 2 python-koodin suorittamisesta\n",
    "\n",
    "Testaa koodia vaihtamalla muuttujien luku1 ja luku2 arvoja. Tavoite on vain harjoitella Jupyter-notebookin käyttöä. \n",
    "\n",
    "Jos tarvitset lisäharjoitusta python-perusteista, niin lyhyt pikaohje on erillisessä tiedostossa python-perusteet.ipynb. Voita ladata (fetch)-tidoston tai ladata sen kursssin jaetusta google-drivesta."
   ]
  },
  {
   "cell_type": "code",
   "execution_count": 2,
   "metadata": {},
   "outputs": [
    {
     "name": "stdout",
     "output_type": "stream",
     "text": [
      "Lukujen summa on 8\n"
     ]
    }
   ],
   "source": [
    "# Tämä rivi on kommentti\n",
    "luku1 = -2\n",
    "luku2 = 10\n",
    "print(\"Lukujen summa on\", luku1 + luku2)"
   ]
  },
  {
   "cell_type": "markdown",
   "metadata": {},
   "source": [
    "## Johdanto tehtävään 1: Binäärijärjestelmässä kantaluku on kaksi\n",
    "\n",
    " Tavallisessa desimaalijärjestelmässä luvut esitetään kantaluvun $10$ potenssien avulla. Luvun esittämisessä käytettyjen numeroiden $0,1,2 ... 9$ paikka ilmaisee ykkösten, kymppien satojen... eli kantaluvun 10 potenssien lukumäärän. Esimerkiksi desimaalijärjestelmän luku $245$ voidaan hajoittaa muotoon:\n",
    "\n",
    " $$ 245= 2\\cdot 100+ 4 \\cdot 10 + 5\\cdot 1 = 2\\cdot 10^2 + 4\\cdot 10^1 + 5\\cdot 10^0$$\n",
    "\n",
    "\n",
    "Binäärijärjestelmän kantaluku on $2$. Binääriluvussa bitin $0$ tai $1$ paikka ilmaisee mikä kantaluvun $2$ potenssi on kysessä. Esimerkiksi desimaalijärjestelmän luku $11_{10}$ saa binäärijärjestelmässä esitysmuodon $1011_2$ , koska\n",
    "\n",
    " $$11_{10} = 8+2+1 = 1 \\cdot 2^3+0 \\cdot 2^2 +1\\cdot 2^1+1\\cdot 2^0 = 1011_2$$  \n",
    " \n",
    "Esimerkiksi binääriluku $11001_2$ voidaan muuttaa desimaalijärjestelmän luvuksi seuraavalla algortimilla:\n",
    "\n",
    " $$11001_2 = 1\\cdot 2^4+ 1\\cdot 2^3+0\\cdot 2^2+0\\cdot 2^1+1\\cdot 2^0=16+8+1 = 25_{10}$$\n"
   ]
  },
  {
   "cell_type": "markdown",
   "metadata": {},
   "source": [
    "###  Muunnokset binääriesityksen ja desimaalijärjestelmän välillä pythonissa\n",
    "\n",
    "Tietokoneiden muistissa kaikki digitaalinen informaatio esitetään bittien avulla, bitin tila voi olla joko  $0$ tai $1$. Python-ohjelmointikielessä desimaalijärjestelmän luvun voi muuttaa binääriluvuksi komennolla `bin(kokonaisluku)`. Vastaavasti binääriluvun voi muuttaa desimaalijärjestelmään komennolla `int(binääriluku,2)`. Funktion  2.parametrina annettu luku $2$ ilmaisee, että 1.parametri on binääriluku. Pythonissa etuliite `0b` ilmaisee, että kyseessä on binääriluku. Tällöin esimerkiksi `print`-komento tunnistaa binääriluvun, ja antaa tulosteen desimaalijärjestelmässä. Esimerkkejä:"
   ]
  },
  {
   "cell_type": "code",
   "execution_count": 3,
   "metadata": {},
   "outputs": [
    {
     "name": "stdout",
     "output_type": "stream",
     "text": [
      "26\n"
     ]
    }
   ],
   "source": [
    "# Esimerkki 1.1 suorita koodisolu painamalla run-näppäintä\n",
    "# Tulostetaan binääriluku 11010 eli desimaalijärjestelmän luku 26\n",
    "print(0b11010)"
   ]
  },
  {
   "cell_type": "code",
   "execution_count": 4,
   "metadata": {},
   "outputs": [
    {
     "name": "stdout",
     "output_type": "stream",
     "text": [
      "0b11010\n"
     ]
    }
   ],
   "source": [
    "# Esimerkki 1.2\n",
    "# Annetaan alkuarvo muuttujalle a desimaalijärjestelmässä ja muutetaan luku binääriluvuksi\n",
    "a = 26\n",
    "b = bin(a)\n",
    "print(b)"
   ]
  },
  {
   "cell_type": "code",
   "execution_count": 5,
   "metadata": {},
   "outputs": [
    {
     "name": "stdout",
     "output_type": "stream",
     "text": [
      "26\n",
      "53\n"
     ]
    }
   ],
   "source": [
    "# Annetaan muuttujalle b alkuarvo binäärilukuna, etuliite 0b ilmaisee, että kyseessä on binääri\n",
    "b = \"0b11010\" # nyt muuttuja b on merkkijono eli string-tyyppiä\n",
    "a = int(b,2)\n",
    "print(a)\n",
    "# desimaalijärjestelmän luvulla on helppo laskea\n",
    "print(2*a+1)"
   ]
  },
  {
   "cell_type": "markdown",
   "metadata": {},
   "source": [
    "## Tehtävä 1\n",
    "a) Muunna binääriluvuksi 10-järjestelmän luku $123_{10}$\n",
    "b) Muunna 10-järjestelmän luvuksi luku $1011101_{2}$\n",
    "\n",
    "Tehtävän voi ratkaista ohjelmoimalla pythonilla alla olevaan soluun."
   ]
  },
  {
   "cell_type": "code",
   "execution_count": null,
   "metadata": {},
   "outputs": [],
   "source": [
    "# Ohjelmoi tehtävä 1 tähän"
   ]
  },
  {
   "cell_type": "markdown",
   "metadata": {},
   "source": [
    "## Tehtävä 2\n",
    "Lue johdantoartikkeli <a href=\"https://github.com/otaniemenlukio/kvanttilaskenta2022/blob/main/kierros1/kvantit_horisontissa.pdf\" target =\"_blank\">Kvanttit horitsontissa sivut 6 -8</a>\n",
    "\n",
    "a) Kerro lyhyesti lukemasi artikkelin ja linkin videon perusteella, mitä ovat klassisten ja kvanttitietokoneiden oleelliset erot? \n",
    "\n",
    "<a href = \"https://www.youtube.com/watch?v=WVv5OAR4Nik&feature=youtu.be \" target = \"_blank\">How quantum Computers work</a>\n",
    "\n",
    "\n",
    "\n",
    "b) Kokeile kuvata seuraava klassisen tietokoneen loogisen portin toiminta totuustaulukon avulla.\n",
    "![gate](images/gate.png)\n",
    "Käyttämällä apuna seuraavaa liitettä\n",
    "\n",
    "<a href =\"https://drive.google.com/file/d/1QiqiPUY9S8bUTxdQkYb5NK-fqpYoyE-E/view?usp=sharing\" target=\"_blank\">Loogiset peruspiirit</a>\n",
    "\n",
    "Totuustaulun voi tehdä esim. L'Math ohjelman kaavaeditorilla.\n"
   ]
  },
  {
   "cell_type": "markdown",
   "metadata": {},
   "source": [
    " ## tehtävä 2\n",
    " Vastaa tähän soluun, johon voi upottaa latex-koodia (tuplalikkaa markdown-solu auki). Voit tehdä taulukon vaikka ruutupaperille kynällä ja palauttaa valokuvana.\n",
    " \n",
    " $$ \\begin{array}{l|l}\n",
    "A&\\overline{A}&B&\\overline{A}\\wedge B\\\\\n",
    "\\hline\n",
    "1&&1&\\\\\n",
    "1&&0&\\\\\n",
    "0&&1&\\\\\n",
    "0&&0&\n",
    "\\end{array}$$"
   ]
  },
  {
   "cell_type": "markdown",
   "metadata": {},
   "source": [
    "## Tehtävä 3: Rekisteröityminen IBM:n palveluun\n",
    "\n",
    "Tehtävän tavoiteena on varmistaa että jokainen on saanut oman avaimen eli tokenin aktivoitua qiskit-palvelussa.\n",
    "\n",
    "Tehtävä on nopea tehdä: suorita alla olevat koodilohkot järjestyksessä läpi.\n",
    "\n",
    "Jos et ole vielä ottanut tokenia käyttöön, tee näin:\n",
    "\n",
    "Rekisteröitymisen jälkeen liitä tokenisi [IBM Quantum Experiencen käyttäjäsivulta](https://quantum-computing.ibm.com/account) heittomerkkien sisään, ja aja koodi (jos et onnistu suorittamaan tätä, niin ei hätää vielä 1.laskuharjoituskierroksella):"
   ]
  },
  {
   "cell_type": "code",
   "execution_count": null,
   "metadata": {},
   "outputs": [],
   "source": [
    "from qiskit import IBMQ\n",
    "IBMQ.save_account(\"oma token tähän\")"
   ]
  },
  {
   "cell_type": "markdown",
   "metadata": {},
   "source": [
    "Token täytyy syöttää vain kerran, koska se tallennetaan kvanttilaskenta.net-käyttäjäsi tai oman tietokoneen käyttäjäsi yhteyteen.\n",
    "\n",
    "**HUOM:** Ennen kuin palautat notebookin, ota tokenisi pois kentästä. Meidän ei tarvitse tietää sitä!\n",
    "\n",
    "Alla on yksinkertaisen kvanttipiirin koodi, jotka käsittelimme jo kierroksen 2 laskuharjoituksissa. Rakenna, simuloi ja lähetä piiri lopuksi oikealle kvanttitietokoneelle laskettavaksi.\n"
   ]
  },
  {
   "cell_type": "markdown",
   "metadata": {},
   "source": [
    "## Tehtävä 4 Harjoitellaan kvanttipiirin määrittelyä ja ohjelmointia pythonilla.\n",
    "\n",
    "Seuraavassa esimerkissä kvanttipiiriä täydennetään kahdella kvanttirekisterillä ja kahdella klassisella rekisterillä. Kvanttipiiri luodaan syöttämällä rekisterit parametrina komennolle QuantumCircuit(). Kun H-portti operoi systeemiin, niin systeemin, niin kubitin 0 tila on määritetty tilojen $\\ket 0$ ja $\\ket 1$ superpositiona. Kun piirin tila mitataan, niin silloin systeemi siirtyy tiettyyn hyvin määritettyyn tilaan, jonka arvo tallenetaan klassiseen rekisteriin. Tämän jälkeen piirin toiminta simuloidaan, mutta piiriä ei vielä suoriteta oikealla kvanttitietokoneella.\n",
    "\n",
    "Tehtävän tavoite on harjoitella kvanttipiirin määrittelyä pythonin avulla. Piirin toiminta selitetään myöhemmin. \n",
    "\n",
    "\n",
    "Kvanttimekaanisella systeemillä jokaisella mahdollisella mitatulla tilalla on tietty todennäköisyys, ja kaikkien eri tilavaihtoehtojen todennäköisyyksien summa on 1.\n",
    "\n",
    "Voit halutessasi ohjelmoida piirin toteutuksen ja ajamisvaiheet itse seuraavan tutoriaalin avulla:\n",
    "\n",
    "<a href=\"https://youtu.be/RrUTwq5jKM4\" target=\"_blank\">IBM:n \"Hello World\"-piirin tutoriaali</a>"
   ]
  },
  {
   "cell_type": "code",
   "execution_count": 3,
   "metadata": {},
   "outputs": [],
   "source": [
    "# Jos kirjoitat koodin itse, niin aloita tästä.\n",
    "from qiskit import *"
   ]
  },
  {
   "cell_type": "code",
   "execution_count": null,
   "metadata": {},
   "outputs": [],
   "source": [
    "# vaihtoehto 1: tyhjä koodiblokki josta voit jatkaa videon ohjeiden mukaisesti"
   ]
  },
  {
   "cell_type": "code",
   "execution_count": 5,
   "metadata": {},
   "outputs": [
    {
     "data": {
      "image/png": "[encoded data removed]",
      "text/plain": [
       "<Figure size 129.678x204.68 with 1 Axes>"
      ]
     },
     "execution_count": 5,
     "metadata": {},
     "output_type": "execute_result"
    }
   ],
   "source": [
    "# Vaihtoehto 2: valmis esimerkkikoodi tehtävään 2 suoritettavaksi.\n",
    "# Etene vaiheittain, suorita koodilohkot painamalla Run-nappia ylhäältä.\n",
    "\n",
    "from qiskit import *\n",
    "\n",
    "quantum_register = QuantumRegister(2)\n",
    "classical_register = ClassicalRegister(2)\n",
    "circuit = QuantumCircuit(quantum_register, classical_register)\n",
    "\n",
    "%matplotlib inline\n",
    "circuit.draw(output='mpl')"
   ]
  },
  {
   "cell_type": "code",
   "execution_count": 6,
   "metadata": {},
   "outputs": [
    {
     "data": {
      "image/png": "[encoded data removed]",
      "text/plain": [
       "<Figure size 159.778x204.68 with 1 Axes>"
      ]
     },
     "execution_count": 6,
     "metadata": {},
     "output_type": "execute_result"
    }
   ],
   "source": [
    "# Lisätään Hadamard-portti H \n",
    "circuit.h(quantum_register[0])\n",
    "circuit.draw(output='mpl')"
   ]
  },
  {
   "cell_type": "code",
   "execution_count": 5,
   "metadata": {},
   "outputs": [
    {
     "data": {
      "image/png": "[encoded data removed]",
      "text/plain": [
       "<Figure size 274.013x204.68 with 1 Axes>"
      ]
     },
     "execution_count": 5,
     "metadata": {},
     "output_type": "execute_result"
    }
   ],
   "source": [
    "# Lisätään kvanttipiiriin CNOT-portti cx()-komennolla\n",
    "circuit.cx(quantum_register[0], quantum_register[1])\n",
    "circuit.draw(output='mpl')"
   ]
  },
  {
   "cell_type": "code",
   "execution_count": 6,
   "metadata": {},
   "outputs": [
    {
     "data": {
      "image/png": "[encoded data removed]",
      "text/plain": [
       "<Figure size 394.413x204.68 with 1 Axes>"
      ]
     },
     "execution_count": 6,
     "metadata": {},
     "output_type": "execute_result"
    }
   ],
   "source": [
    "# Mitataan molemmat kubitit, ja tallennetaan tulokset klassiseen rekisteriin\n",
    "circuit.measure(quantum_register, classical_register)\n",
    "circuit.draw(output='mpl')"
   ]
  },
  {
   "cell_type": "code",
   "execution_count": 7,
   "metadata": {},
   "outputs": [
    {
     "data": {
      "image/png": "[encoded data removed]",
      "text/plain": [
       "<Figure size 504x360 with 1 Axes>"
      ]
     },
     "execution_count": 7,
     "metadata": {},
     "output_type": "execute_result"
    }
   ],
   "source": [
    "# Simuloidaan piirin toiminta.\n",
    "simulator = Aer.get_backend('qasm_simulator')\n",
    "execute(circuit, backend=simulator)\n",
    "result = execute(circuit, backend=simulator).result()\n",
    "from qiskit.tools.visualization import plot_histogram\n",
    "plot_histogram(result.get_counts(circuit))"
   ]
  },
  {
   "cell_type": "markdown",
   "metadata": {},
   "source": [
    "## Johdantoesimerkki Matriisilaskentaan\n",
    "\n",
    "Tutustu esimerkiksi seuraavan esimerkin avulla miten matriisien avulla voidaan esittää xy-tason lineaarisia kuvauksia matematiikassa:\n",
    "<a href =\"https://www.lukemaverkosto.fi/materiaali/valokuvien-matematiikkaa-geogebralla-ja-ohjelmoimalla-osa-1-2/\" target=\"_blank\">xy-tason lineaarikuvaukset</a>\n",
    "\n",
    "Lasketaan esimerkkinä seuraava $2x2$ matriisin $A$ ja pystyvektorin $v$ tulo:\n",
    "![tulo1](images/tulo1.png)\n",
    "\n",
    "Aukikirjoitetutta algebra etenee seuraavasti:\n",
    "![tulo2](images/tulo2.png)\n",
    "\n",
    "Matriisilaskut voi laskea kurssilla Nspirellä, jos et halua ohjelmoida. Tämä opetetaan 1.laskuharjoituksessa. \n",
    "\n",
    "Pythonissa matriisin $A$ ja pystyvektorin $v$ tulo voidaan esitettää seuraavasti:\n"
   ]
  },
  {
   "cell_type": "code",
   "execution_count": 10,
   "metadata": {},
   "outputs": [
    {
     "name": "stdout",
     "output_type": "stream",
     "text": [
      "tulostetaan matriisi A:\n",
      "[[ 3.  2.]\n",
      " [-2.  1.]]\n",
      "tulostetaan vektori v\n",
      "[[-1.]\n",
      " [ 1.]]\n",
      "tulostetaan u:\n",
      "[[-1.]\n",
      " [ 3.]]\n"
     ]
    }
   ],
   "source": [
    "import numpy as np\n",
    "\n",
    "# Määritellään lineaarinen kuvaus a\n",
    "A = np.float32(np.array([[3, 2],[-2, 1]]))\n",
    "\n",
    "print(\"tulostetaan matriisi A:\")\n",
    "print(A)\n",
    "\n",
    "# Määritellään pystyvektori v\n",
    "v = np.float32(np.array([[-1],[1]]))\n",
    "\n",
    "print(\"tulostetaan vektori v\")\n",
    "print(v)\n",
    "\n",
    "# lasketaan tulo , huomaa kertomerkki @\n",
    "u = A@v\n",
    "\n",
    "print(\"tulostetaan u:\")\n",
    "print(u)"
   ]
  },
  {
   "cell_type": "markdown",
   "metadata": {},
   "source": [
    "$$\\renewcommand{\\ket}[1]{\\left|{#1}\\right\\rangle}$$\n",
    "$$\\renewcommand{\\bra}[1]{\\left\\langle{#1}\\right|}$$\n",
    "\n",
    "## Tehtävä 5\n",
    "\n",
    "Kvanttitietokoneen muistissa tieto esitetään kubittien avulla. Kubitin perustilat ovat $\\ket 0$ ja $\\ket{1}$, ja ne esitetään pystyvektoreina\n",
    "\n",
    "$$\n",
    "\\begin{align}\n",
    "\\ket 0 &= \\begin{pmatrix} 1 \\\\ 0 \\end{pmatrix}, \\\\\n",
    "\\ket 1 &= \\begin{pmatrix} 0 \\\\ 1 \\end{pmatrix}.\n",
    "\\end{align}\n",
    "$$\n",
    "\n",
    "NOT-portin matriisiesitys on seuraava:\n",
    "\n",
    "$$\n",
    "X=\\begin{pmatrix} 0 & 1 \\\\ 1 & 0 \\end{pmatrix}\n",
    "$$\n",
    "\n",
    "a) Osoita laskemalla (ohjelmoimalla) matriisin $X$ ja pystyvektorien tulot, että kun $X$-portti operoi kubittiin, niin kubitin tila muuttuu käänteiseksi (bit-flip gate), eli\n",
    "\n",
    "$$\n",
    "X\\ket 0 = \\ket 1 \\\\\n",
    "X\\ket 1 = \\ket 0\n",
    "$$\n",
    "\n",
    "b) X-portilla operoiminen voidaan esittää kubitin tilavektorin kiertona ns. Blochin pallon pinnalla. Tutki X-portin vaikutusta kubitin tilaan <a href = \"https://bloch.ollpu.fi/\"> simulaation avulla</a>. Kun operoit X-portilla tilassa $\\ket 0$ olevaan kubittiin, niin kubitti kiertyy X-akselin ympäri tilaan $\\ket 1$. "
   ]
  },
  {
   "cell_type": "code",
   "execution_count": 11,
   "metadata": {},
   "outputs": [
    {
     "name": "stdout",
     "output_type": "stream",
     "text": [
      "tulostetaan kubitin tila 0: \n",
      "[[1]\n",
      " [0]]\n",
      "tulostetaan kubitin tila 1: \n",
      "[[0]\n",
      " [1]]\n"
     ]
    }
   ],
   "source": [
    "# Laske tehtävä tähän pythonilla (tai nspirellä)\n",
    "#\n",
    "q0 = np.array([[1],[0]])\n",
    "print(\"tulostetaan kubitin tila 0: \")\n",
    "print(q0)\n",
    "\n",
    "q1 = np.array([[0],[1]])\n",
    "print(\"tulostetaan kubitin tila 1: \")\n",
    "print(q1)\n",
    "\n",
    "X =  np.array([[0, 1],[1, 0]])"
   ]
  }
 ],
 "metadata": {
  "kernelspec": {
   "display_name": "Python 3 (ipykernel)",
   "language": "python",
   "name": "python3"
  },
  "language_info": {
   "codemirror_mode": {
    "name": "ipython",
    "version": 3
   },
   "file_extension": ".py",
   "mimetype": "text/x-python",
   "name": "python",
   "nbconvert_exporter": "python",
   "pygments_lexer": "ipython3",
   "version": "3.10.0"
  }
 },
 "nbformat": 4,
 "nbformat_minor": 2
}
