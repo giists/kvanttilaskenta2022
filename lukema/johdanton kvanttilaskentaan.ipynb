{
 "cells": [
  {
   "cell_type": "markdown",
   "id": "cf85cb7c",
   "metadata": {},
   "source": [
    "\n",
    "# Johdanto kvanttilaskentaan, kvanttilaskennan lyhyt oppimäärä\n",
    "\n",
    "\n",
    "$$\\renewcommand{\\ket}[1]{\\left|{#1}\\right\\rangle}$$\n",
    "$$\\renewcommand{\\bra}[1]{\\left\\langle{#1}\\right|}$$\n",
    "\n",
    "\n",
    "Tässä artikkelissa esitellään lyhesti \n",
    "\n",
    " 1. kvanttietokoneiden toiminan ei-klassiset  periaatteet, joita ovat \n",
    "     1. kahden tai useamman kvanttitilan superpositio eli yhdistelmätila, ja\n",
    " \n",
    "     2. kahden kubitin välinen lomittuminen (entanglement) eli kytkentä\n",
    " \n",
    " \n",
    "2. Artikkelissa kuvataan yhden kubitin systemi ns. ket-esityksen sekä pystyvektori-esityksen avulla. Samalla käsitellään miten kubitin tilavektorin erilaiset kierrot Blochin pallolla voidaan kuvata esimerkiksi X- ja H kvanttiporttien matriisiesityksen avulla. Matriisilaskentaan liittyvän algebran yksityiskohtia ei käsitellä, koska laskut suoritetaan pythonilla.\n",
    " \n",
    " \n",
    "3. Lisäksi määritellään yksikertainen kvanttipiiri python-ohjelmointikielellä IBM Qiskit-ympäristössä.\n",
    "\n"
   ]
  },
  {
   "cell_type": "markdown",
   "id": "7b68c6e9",
   "metadata": {},
   "source": [
    "### Ohje Jupyter-notebookin asentamiseen ja suorittamiseen\n",
    "\n",
    "Alla on koodilohkoja, joita voit suorittaa artikkelia lukiessasi. Koodilohkon voit suorittaa painamalla yläpaneelista klikkaamalla \"run\" tai paina ctrl+enter, jolloin aktiivinen solu suoritetaan.\n",
    "\n",
    "![run](images/run.png)\n",
    "\n",
    "Testaa myös mitä muista yläpaneelin pikanäppäimistä tapahtuu.\n",
    "\n",
    "Asennusohje:\n",
    "1. Asenna <a href=\"https://www.anaconda.com\" target =\"_blank\"> Anaconda python</a>\n",
    "\n",
    "\n",
    "2. Kun Omalle koneelle on asennettu paikallinen Jupyter-ympäristö, asenna Qiskit (advanced users):\n",
    "<a href=\"https://qiskit.org/documentation/install.html\" target =\"_blank\">IBM QISKIT Installation</a>\n",
    "    "
   ]
  },
  {
   "cell_type": "markdown",
   "id": "899fea10",
   "metadata": {},
   "source": [
    "## Tietokoneessa tieto esitetään bittien avulla\n",
    "Perinteisten eli klassisten tietokoneiden muistissa kaikki digitaalinen informaatio esitetään bittien avulla, bitin tila voi olla joko  0 tai 1. Klassisten tietokoneiden digitaalisen informaation käsittely eli laskenta suoritetaan tietokoneen sisällä loogisten porttien avulla, jotka on käytännössä toteutettu erilaisilla transistorikytkennöillä.  Nämä muuttavat syötteenä saamansa bitin tai bittien tilaa porttien ulostulolle määritetyn toimintalogiikan mukaisesti. \n",
    "\n",
    "\n",
    ">**Kertaavaa tietoa desimaalijärjestelmästä:** Tavallisessa desimaalijärjestelmässä luvut esitetään kantaluvun $10$ potenssien avulla. Luvun esittämisessä käytettyjen numeroiden $0,1,2 ... 9$ paikka ilmaisee ykkösten, kymppien satojen... eli kantaluvun 10 potenssien lukumäärän. Esimerkiksi desimaalijärjestelmän luku $245$ voidaan hajoittaa muotoon:\n",
    "\n",
    " >$$ 245= 2\\cdot 100+ 4 \\cdot 10 + 5\\cdot 1 = 2\\cdot 10^2 + 4\\cdot 10^1 + 5\\cdot 10^0$$\n",
    "\n",
    "\n",
    "Binäärijärjestelmän kantaluku on $2$. Binääriluvussa bitin $0$ tai $1$ paikka ilmaisee mikä kantaluvun $2$ potenssi on kysessä. Esimerkiksi desimaalijärjestelmän luku $11_{10}$ saa binäärijärjestelmässä esitysmuodon $1011_2$ , koska\n",
    "\n",
    " $$11_{10} = 8+2+1 = 1 \\cdot 2^3+0 \\cdot 2^2 +1\\cdot 2^1+1\\cdot 2^0 = 1011_2$$  \n",
    " \n",
    "Esimerkiksi binääriluku $11001_2$ voidaan muuttaa desimaalijärjestelmän luvuksi seuraavalla algortimilla:\n",
    "\n",
    " $$11001_2 = 1\\cdot 2^4+ 1\\cdot 2^3+0\\cdot 2^2+0\\cdot 2^1+1\\cdot 2^0=16+8+1 = 25_{10}$$\n",
    "\n",
    "\n",
    "Seuraavassa kuvassa on diodista ja AND-portista rakennettu looginen peruspiiri ja sen toimintalogiikka totuustaulukon avullla esitettynä. Vasemalla on piirin sisääntulobitit ja oikealla piirin ulostulo.\n",
    "![gate](images/gate.png)\n",
    "\n",
    "\n",
    "Diodi flippaa eli kääntää (negaatio) sisääntulobitin arvon:\n",
    "$$\\begin{array}{l|l}\n",
    "A&\\overline{A}\\\\\n",
    "\\hline\n",
    "1&0\\\\\n",
    "0&1\n",
    "\\end{array}$$\n",
    "\n",
    "AND-portilla on kaksi sisääntuloa, totuustaulu on seuraava:\n",
    "\n",
    "$$\\begin{array}{l|l}\n",
    "A&B&A\\ \\wedge B\\\\\n",
    "\\hline\n",
    "1&1&\\ \\ \\ \\ 1\\\\\n",
    "1&0&\\ \\ \\ \\ 0\\\\\n",
    "0&1&\\ \\ \\ \\ 0\\\\\n",
    "0&0&\\ \\ \\ \\ 0\n",
    "\\end{array}$$\n",
    "\n",
    "Diodista ja AND-portista rakennettu piirin sisääntulobittejä ovat diodin jälkeen $\\overline{A}$ ja $B$.  Piirin toimintalogiikka on siis seuraava:\n",
    "\n",
    "$$\n",
    "\\begin{array}{l|l|l|c}\n",
    "A&\\overline{A}&B&\\overline{A}\\wedge B\\\\\n",
    "\\hline\n",
    "1&0&1&0\\\\\n",
    "1&0&0&0\\\\\n",
    "0&1&1&1\\\\\n",
    "0&1&0&0\n",
    "\\end{array}\n",
    "$$\n",
    "\n"
   ]
  },
  {
   "cell_type": "markdown",
   "id": "396c3550",
   "metadata": {},
   "source": [
    "## Kvanttitietokoneen toimintaperiaate\n",
    "\n",
    "Kvanttikoneessa informaatiota käsitellään mahdollisimman hyvin ympäristöstä eristettyjen kubittien ja niiden tilanmuutoksia ohjaavien kvanttiporttien avulla. Fyysisesti kubitit voivat olla esimerkiksi suprajohtavassa tilassa olevia virtasilmukoita, ionisoituneita atomeja tai elektroneja.  Kvanttitilat ovat hyvin “hauraita”, kvanttimekaanisen tilan aikakehitys häiriytyy äärimmäisen helposti, siksi systeemit joudutaan eristämään ulkoisista magneettikentistä ja jäähdytetään lähelle absoluuttista nollapistettä atomien lämpöliikkeen  minimoimiseksi. Tästä syystä kvanttikoneita ei voi kuvitella edes tulevaisuudessa olevan mahdollista rakentaa henkilökohtaisiksi koneiksi, vaan niitä käytetään kalliiden jäähdytyslaitteiden yhteydessä ja ennen kaikkea internetin kautta. \n",
    "\n",
    "Toisena suurena erona on, että jos kvanttitilan tila mitataan, saadaan tilastollisia vastauksia, samalla kvanttitila tuhotaan, ts. se ei enää jatka omaa elämäänsä “kvanttimaailmassa”, vaan tilan kannalta kvanttikoherenssi loppuu.  Kvanttikone voidaan kuitenkin alustaa uudelleen suorittamaan samaa identtistä  “koodia”. Suorittamalla riittävä määrä mittauksia aivan samalla systeemillä, saadaan selville todennäköisimmät lopputilat, joihin kubitit asettautuvat kvanttiporttien vaikutuksesta. Nämä useimmiten esiintyvät tilat ovat kvanttikoneen tulokset. Jos häiriötekijöitä ei onnistuta poistamaan, on lopputuloksissa niin paljon kohinaa, ettei oikeita tuloksia voi enää helposti tunnistaa laskentadatasta. \n",
    "\n"
   ]
  },
  {
   "cell_type": "markdown",
   "id": "aeccc41c",
   "metadata": {},
   "source": [
    "## Kubittien superpositio ja lomittuminen ovat kvanttilaskennan perusominaisuuksia\n",
    "\n",
    "\n",
    "### Superpositio eli yhdistelmätila\n",
    "\n",
    "Kvanttitietokoneiden muistissa informaatio on esitetty kubittien avulla. Yhden kubitin tila on samanaikaisesti molempien tilojen 0 ja 1 yhdistelmä eli alla olevan yhtälön (1) kuvaama superpositio.  Yhtälön mukaan kubitin tila on  on painotettu summa tiloista 0 ja 1.\n",
    "\n",
    "$ \\ket \\psi  = a\\cdot\\ket{0} + b\\cdot \\ket{1}\\ \\ (1)$,\n",
    "\n",
    "\n",
    "Kubitin tilaa esittää ns. Blochin pallolle piirrety tilavektori $\\ket \\psi$. Tilavektorin ns. bra-ket-merkintätapa $\\ket \\psi$ on historiallisesti peräisin fyysikko Paul Diracilta.   Vektoria  $\\ket \\psi $ kutsutaan jatkossa ns. ket-tilavektoriksi.  Yhtälö (1) esittämä kubitin tila on tilojen 0 ja 1 superpositio eli yhdistelmä. Tämä tarkoittaa, että ennen mittausta kubitti ei ole kummassakaan tilassa 0 tai 1. On yhtä pitävää sanoa, että kubitti on samanaikaisesti sekä tilassa 0 ja 1.\n",
    "\n",
    "Kubitin lopullinen tila määräytyy vasta kun kvanttitietokoneessa mitataan kubitin sisältämä informaatio ja tallennetaan se klassisen tietokoneen muistiin. Kun kubitin tila mitataan, kubitin superpositiotila hajoaa, ja kubitti valitsee jommankumman mahdollisen lopputilan 0 tai 1. Tilavektorin $\\ket \\psi $ kertoimien $a$ ja $b$ neliöt $a^2$ ja $b^2$ ilmaisevat todennäköisyydet saada mittaustapahtumassa tulos 0 tai 1 seuraavasti:\n",
    "\n",
    "$P(0)=a^2$ ja $P(1)=b^2$.\n",
    "\n",
    "Huomaa, että kertoimet $a$ ja $b$ voivat olla imaginaarilukuja, mutta lukujen neliöt ovat aina reaalilukuja. Imaganaariyksikkö $i$ toteuttaa ehdon $i^2 = -1$.\n",
    "\n",
    "Mittauksessa kubitti valitsee jommankumman mahdollisen tilan, joten mahdollisten lopputulosten todennäköisyyksien summa on yksi:\n",
    "\n",
    "$P(0)+P(1)=1$\n",
    "\n",
    "Tarkastellaan kubittia, joka on preparoitu eli valmisteltu (kvanttiporttien avulla) tilaan $\\ket \\psi = \\frac{1}{\\sqrt{2}}(\\ket 0 + i \\ket 1)$.  Kubitti on piirretty alla olevaan kuvaan (huomaa $\\frac{1}{\\sqrt{2}} \\approx 0.71$). Lasketaan mahdollisten mittaustulosten todennäköisyydet."
   ]
  },
  {
   "cell_type": "code",
   "execution_count": 28,
   "id": "f44db44c",
   "metadata": {},
   "outputs": [
    {
     "data": {
      "text/html": [
       "\n",
       "        <iframe\n",
       "            width=\"600\"\n",
       "            height=\"400\"\n",
       "            src=\"https://bloch.ollpu.fi/?sqrt(1/2)&-i*sqrt(1/2)\"\n",
       "            frameborder=\"0\"\n",
       "            allowfullscreen\n",
       "            \n",
       "        ></iframe>\n",
       "        "
      ],
      "text/plain": [
       "<IPython.lib.display.IFrame at 0x7f9150968f40>"
      ]
     },
     "execution_count": 28,
     "metadata": {},
     "output_type": "execute_result"
    }
   ],
   "source": [
    "from IPython.display import IFrame\n",
    "\n",
    "IFrame(src='https://bloch.ollpu.fi/?sqrt(1/2)&-i*sqrt(1/2)', width=600, height=400)"
   ]
  },
  {
   "cell_type": "markdown",
   "id": "fed490cf",
   "metadata": {},
   "source": [
    "Mittaustuloksen 0 todennäköisyys:\n",
    "$P(0)=(\\frac{1}{\\sqrt{2}})^2=\\frac{1}{2}$ ja \n",
    "\n",
    "Mittaustuloksen 1 todennäköisyys:\n",
    "$P(1)=-(i\\frac{1}{\\sqrt{2}})^2=-1\\cdot (i)^2 \\cdot \\frac{1}{2}=\\frac{1}{2}$\n",
    "\n",
    "Koska kubitin tilan mittauksessa superpositiotila hajoaa, ja kubitti päätyy jompaan kumpaan tilaan, on mahdollisten mittaustulosten todennäköisyyksien summa 1, eli $P(0)+P(1)=1$.\n"
   ]
  },
  {
   "cell_type": "markdown",
   "id": "062aa04b",
   "metadata": {},
   "source": [
    "### Lomittuminen kubitin ominaisuutena\n",
    "\n",
    "Toinen kvanttiteoriaan perustuva ei-klassinen piirre on kahden (tai usemman) kubitin lomittuminen (quantum entanglement):  Kun kvanttisysteemin tila kuvataan kahden  lomittuneen kubitin avulla, niin ensimmäisen kubitin tilan määritys mittaamalla aiheuttaa samalla toisen kubitin tilan määräytymisen.  Lomittuneiden kubittiparien lopputilat eivät valikoidu toisistaan riippumatta, kubittiparin lopputilojen määräytymistä ohjaa tilojen kytkeytyminen. Lomittumista tarkastellaan lisää myöhemmin tässä artikkelissa kahden kubitin kvanttisysteemissä.\n",
    "\n"
   ]
  },
  {
   "cell_type": "markdown",
   "id": "1bf17bf2",
   "metadata": {},
   "source": [
    "### Klassisen tietokoneen ja kvanttitietkoneen erot laskentatehossa\n",
    "\n",
    "Tarkastellaan mikä on klassisen ja kvanttikoneen ero laskentatehossa. Jos klassisen tietokoneen muistissa $n$ bittiä, se voi laskea kerrallaan vain yhden mahdollisen tilan $2n$ vaihtoehdosta (bitin tilat ovat 0 tai 1).  Jos kvanttitietokoneen muistissa on $n$ kubittia, niin se voi samanaikaisesti tutkia  $2^n$  tilan ratkaisun. Tätä eroa havainnollistetaan usein labyrinttiesimerkillä, jossa tietokoneen on laskettava reitti labyrintin läpi. Kun klassisen tietokoneen on käytävä läpi yksitellen kaikki mahdolliset reittivaihtoehdot, niin vastaavasti kvanttitietokone laskee yhdellä kerralla kaikki vaihtoehdot,  ja löytää heti ratkaisun."
   ]
  },
  {
   "cell_type": "markdown",
   "id": "d0301c59",
   "metadata": {},
   "source": [
    "## Yhden kubitin kvanttipiiri ja X-portti sekä 180 asteen kierto Blochin pallolla x-akselin ympäri\n",
    "\n",
    "Kvanttitietokoneen muistissa tieto esitetään kubittien avulla. Kubitin perustilat ovat ket-vektorit $\\ket 0$ ja $\\ket{1}$, ja ne voidaan esitettää pystyvektoreina\n",
    "\n",
    "$$\n",
    "\\begin{align}\n",
    "\\ket 0 &= \\begin{pmatrix} 1 \\\\ 0 \\end{pmatrix} \\\\\n",
    "\\ket 1 &= \\begin{pmatrix} 0 \\\\ 1 \\end{pmatrix}.\n",
    "\\end{align}\n",
    "$$\n",
    "\n",
    "Kubitin tilaa voidaan muuttaa kvanttiporteilla. Ensimmäiseksi tutkitaan NOT-porttia, jonka matriisiesitys on seuraava:\n",
    "\n",
    "$$\n",
    "X=\\begin{pmatrix} 0 & 1 \\\\ 1 & 0 \\end{pmatrix}\n",
    "$$\n",
    "\n",
    "Kun $X$-kvanttiportti operoi kubittiin, niin kubitin tila muuttuu käänteiseksi (bit-flip gate), eli\n",
    "\n",
    "$$\n",
    "X\\ket 0 = \\ket 1 \\\\\n",
    "X\\ket 1 = \\ket 0\n",
    "$$\n",
    "\n",
    "\n",
    "Matriisi $X$ on siis kuvaus, joka kuvaa tilan $\\ket 0$ tilaksi $\\ket 1$. Geometrisesti tämä voidaan tulkita $180^o$ kierroksi Blochin pallolla.\n",
    "\n",
    "**Tutki** X kvanttiportin vaikutusta tilassa $\\ket 0$ olevan kubitin tilaan alla olevalla sovelluksella. Kierto saa nimensä siitä, minkä akselin ympäri kubitin tilavektoria kierretään $180^o$ Blochin pallolla. Esimerkiksi X-akselin ympärit tapahtuvan kierron saat tehtyä painamalla sovelluksen oikeasta reunasta olevaa nappia.\n",
    "\n",
    "Huomaa ja testaa, että kaksi peräkkäistä X -kiertoa kumovat toisensa vaikutukset, jolloin kubitin alkutila ja lopputila ovat sama. \n"
   ]
  },
  {
   "cell_type": "code",
   "execution_count": 29,
   "id": "581f04e2",
   "metadata": {},
   "outputs": [
    {
     "data": {
      "text/html": [
       "\n",
       "        <iframe\n",
       "            width=\"600\"\n",
       "            height=\"400\"\n",
       "            src=\"https://bloch.ollpu.fi\"\n",
       "            frameborder=\"0\"\n",
       "            allowfullscreen\n",
       "            \n",
       "        ></iframe>\n",
       "        "
      ],
      "text/plain": [
       "<IPython.lib.display.IFrame at 0x7f9150953b50>"
      ]
     },
     "execution_count": 29,
     "metadata": {},
     "output_type": "execute_result"
    }
   ],
   "source": [
    "from IPython.display import IFrame\n",
    "\n",
    "IFrame(src='https://bloch.ollpu.fi', width=600, height=400)"
   ]
  },
  {
   "cell_type": "markdown",
   "id": "155b9206",
   "metadata": {},
   "source": [
    "Osoitetaan, että kaksi peräkkäistä $180^o$ kiertoa kumoavat toisensa. Tämä tehdään laskemalla matriisien tulo $XX=I$, missä $I$ on yksikkömatriisi.\n",
    "\n",
    "$$\n",
    "I=\\pmatrix {1 & 0 \\\\ 0 & 1}\n",
    "$$\n",
    "\n",
    "Matriisiesityksen avulla:\n",
    "$$\\left(\\begin{matrix}\n",
    "0&1\\\\\n",
    "1&0\n",
    "\\end{matrix}\\right)\\left(\\begin{matrix}\n",
    "0&1\\\\\n",
    "1&0\n",
    "\\end{matrix}\\right)=\\left(\\begin{matrix}\n",
    "1&0\\\\\n",
    "0&1\n",
    "\\end{matrix}\\right)$$\n",
    "\n",
    "Kun kubitin tilaa esittävä pystyvektori kerrotaan yksikkömatriisilla $I$, niin kubitin tila ei muutu.\n",
    "\n",
    ">**Lisätietoa matriisilaskennan algebrasta:** $2x2$ matriisin $\\left(\\begin{matrix}\n",
    "a&b\\\\\n",
    "c&d\n",
    "\\end{matrix}\\right)$ ja pystyvektorin $\\left(\\begin{matrix}\n",
    "x\\\\\n",
    "y\n",
    "\\end{matrix}\\right)$ tulo lasketaan seuraavasti:\n",
    "\n",
    "\n",
    ">$$\\left(\\begin{matrix}\n",
    "a&b\\\\\n",
    "c&d\n",
    "\\end{matrix}\\right)\\left(\\begin{matrix}\n",
    "x\\\\\n",
    "y\n",
    "\\end{matrix}\\right)=\\left(\\begin{matrix}\n",
    "ax+by\\\\\n",
    "cx+dy\n",
    "\\end{matrix}\\right)$$\n",
    "\n"
   ]
  },
  {
   "cell_type": "markdown",
   "id": "ee76636a",
   "metadata": {},
   "source": [
    "Seuraavassa X-matriisin $\\left(\\begin{matrix}\n",
    "0&1\\\\\n",
    "1&0\n",
    "\\end{matrix}\\right)$ ja pystyvektorin $\\begin{pmatrix} 1 \\\\ 0 \\end{pmatrix}$ lasketaan pythonin avulla."
   ]
  },
  {
   "cell_type": "code",
   "execution_count": 30,
   "id": "d6086eb7",
   "metadata": {},
   "outputs": [
    {
     "name": "stdout",
     "output_type": "stream",
     "text": [
      "kubitin tila 0 pystyvektorina:\n"
     ]
    },
    {
     "data": {
      "text/latex": [
       "$$\n",
       "\n",
       "\\begin{bmatrix}\n",
       "1  \\\\\n",
       " 0  \\\\\n",
       " \\end{bmatrix}\n",
       "$$"
      ],
      "text/plain": [
       "<IPython.core.display.Latex object>"
      ]
     },
     "execution_count": 30,
     "metadata": {},
     "output_type": "execute_result"
    }
   ],
   "source": [
    "from numpy import matrix\n",
    "from math import sqrt\n",
    "from qiskit.visualization import array_to_latex as latex\n",
    "\n",
    "# määritellään pystyvektorina kubitin kvanttitila 0:\n",
    "q0 = matrix([[1],[0]])\n",
    "# määritellään pystyvektorina kvanttitila 1:\n",
    "q1 = matrix([[0],[1]])\n",
    "print(\"kubitin tila 0 pystyvektorina:\")\n",
    "#latextulostus\n",
    "latex(q0)"
   ]
  },
  {
   "cell_type": "code",
   "execution_count": 31,
   "id": "a92d9ea8",
   "metadata": {},
   "outputs": [
    {
     "name": "stdout",
     "output_type": "stream",
     "text": [
      "Matriisi X:\n"
     ]
    },
    {
     "data": {
      "text/latex": [
       "$$\n",
       "\n",
       "\\begin{bmatrix}\n",
       "0 & 1  \\\\\n",
       " 1 & 0  \\\\\n",
       " \\end{bmatrix}\n",
       "$$"
      ],
      "text/plain": [
       "<IPython.core.display.Latex object>"
      ]
     },
     "execution_count": 31,
     "metadata": {},
     "output_type": "execute_result"
    }
   ],
   "source": [
    "X = matrix([\n",
    "    [0, 1],\n",
    "    [1, 0]\n",
    "])\n",
    "print(\"Matriisi X:\")\n",
    "# Tulostetaan matriisi latexin avulla\n",
    "latex(X)"
   ]
  },
  {
   "cell_type": "code",
   "execution_count": 32,
   "id": "a9d2c2ad",
   "metadata": {},
   "outputs": [
    {
     "name": "stdout",
     "output_type": "stream",
     "text": [
      "Lasketaan X-portin vaikutus kubitin tilaan 0:\n"
     ]
    },
    {
     "data": {
      "text/latex": [
       "$$\n",
       "\n",
       "\\begin{bmatrix}\n",
       "0  \\\\\n",
       " 1  \\\\\n",
       " \\end{bmatrix}\n",
       "$$"
      ],
      "text/plain": [
       "<IPython.core.display.Latex object>"
      ]
     },
     "execution_count": 32,
     "metadata": {},
     "output_type": "execute_result"
    }
   ],
   "source": [
    "print(\"Lasketaan X-portin vaikutus kubitin tilaan 0:\")\n",
    "# Tässä lasketaan X ja q0 tulo ja tulostetaan vastaus:\n",
    "latex(X*q0)"
   ]
  },
  {
   "cell_type": "markdown",
   "id": "a7c28b65",
   "metadata": {},
   "source": [
    "Yllä laskettiin matriisien avulla $X\\ket 0 = \\ket 1$:\n",
    "\n",
    "$\\left(\\begin{matrix}\n",
    "0&1\\\\\n",
    "1&0\n",
    "\\end{matrix}\\right)\\left(\\begin{matrix}\n",
    "1\\\\\n",
    "0\n",
    "\\end{matrix}\\right)=\\left(\\begin{matrix}\n",
    "0\\\\\n",
    "1\n",
    "\\end{matrix}\\right)$\n",
    "\n",
    "Vastaavasti voidaan laskea matriisien avulla $X\\ket 1 = \\ket 0$.\n",
    "\n",
    "\n"
   ]
  },
  {
   "cell_type": "markdown",
   "id": "ffd8a87b",
   "metadata": {},
   "source": [
    "### Muita kvanttiportteja ja kiertomatriiseja\n",
    "\n",
    "Y-portti vastaa kubitin tilavektorin kiertoa Blochin pallolla $180^o$ y-akselin ympäri . Y-portin matriisiesitys on seuraava:\n",
    "\n",
    "$$\n",
    "Y=\\pmatrix {0 & -i \\\\ i & 0}\n",
    "$$\n",
    "\n",
    "Merkintä $i$ on kompleksilukuihin liittyvä imaginaariyksikkö, jolle on voimassa $i^2 = -1$. \n",
    "\n",
    "\n",
    "Vastaavasti Z-portti vastaa kubitin tilavektorin kiertoa Blochin  $180^o$ kiertoa z-akselin ympäri. Z-portin matriisiesitys on seuraava:\n",
    "\n",
    "$$\n",
    "Z=\\pmatrix {1 & 0 \\\\ 0 & -1}\n",
    "$$\n",
    "\n",
    "### Simulaation avulla ratkaistavia pohdintatehtäviä\n",
    "a) Tutki simulaation avulla miten alkutilassa $\\ket 0$ oleva tilavektori  kierttyy X, Y, Z porttien vaikutuksesta Blochin pallolla x,y,z-akselien ympäri.\n",
    "\n",
    "b) Ratkaise simulaation avulla: Jos kubitin alkutila on $\\ket 0$, niin mikä on kubitin lopputila seuraavien porttien operaatioiden eli kiertojen jälkeen? Kiinnitä huomiota minkä akselin ympäri portti kiertää kubittia, ja vaikuttaako kyseinen kierto kubitin tilaan?\n",
    "![kubit_xyz.png](images/kubit_xyz.png)\n",
    "\n",
    "c) Tutustu simulaation avulla myös tärkeään Hadamard-porttiin eli H-porttiin, joka on 180 asteen kierto xz-tason lävistäjän ympäri!\n",
    "\n",
    "d) Huomaa, että kaikkia portteja ei tarvitse toteuttaa oikeassa kvanttitietoneessa. Esimerkiksi kolmen portin yhdistelmä HZH voidaan korvata X-portilla:\n",
    "\n",
    "$Y = HZH$\n",
    "\n",
    "Testaa tämä simulaattorilla: Onko Y -kierto sama kuin HZH."
   ]
  },
  {
   "cell_type": "markdown",
   "id": "330454ff",
   "metadata": {},
   "source": [
    "Kokeile erilaisia kiertoja simulaatiolla. Alkutilassa kubitti on tilassa $\\ket 0$. "
   ]
  },
  {
   "cell_type": "code",
   "execution_count": 33,
   "id": "866565b6",
   "metadata": {},
   "outputs": [
    {
     "data": {
      "text/html": [
       "\n",
       "        <iframe\n",
       "            width=\"600\"\n",
       "            height=\"400\"\n",
       "            src=\"https://bloch.ollpu.fi\"\n",
       "            frameborder=\"0\"\n",
       "            allowfullscreen\n",
       "            \n",
       "        ></iframe>\n",
       "        "
      ],
      "text/plain": [
       "<IPython.lib.display.IFrame at 0x7f9150d826b0>"
      ]
     },
     "execution_count": 33,
     "metadata": {},
     "output_type": "execute_result"
    }
   ],
   "source": [
    "from IPython.display import IFrame\n",
    "\n",
    "IFrame(src='https://bloch.ollpu.fi', width=600, height=400)"
   ]
  },
  {
   "cell_type": "markdown",
   "id": "adb06850",
   "metadata": {},
   "source": [
    "## Hadamard eli H-portti ja kubitin superpositiotilat\n",
    "\n",
    "Hadamard eli H-kvanttiportti on kierto xz-tason lävistäjän suhteen. Hadamard-kvanttiportti muuttaa kubitin tilat $\\ket 0$ ja $\\ket 1$ superpositioon seuraavasti:\n",
    "\n",
    "$$\n",
    "H\\ket 0 = \\frac{1}{\\sqrt 2} (\\ket 0 +  \\ket 1) = \\ket +   \\\\\n",
    "H\\ket 1 = \\frac{1}{\\sqrt 2} (\\ket 0 -  \\ket 1) = \\ket -\n",
    "$$\n",
    "\n",
    "Huomaa, että näitä kyseisiä tiloja merkitään välillä myös $\\ket +$ ja $\\ket -$.\n",
    "\n",
    "$H$-portin matriisiesitys on seuraava:\n",
    "\n",
    "$$\n",
    "H = \\frac{1}{\\sqrt 2} \\pmatrix {1 & 1 \\\\ 1 & -1}\n",
    "$$\n",
    "\n",
    "\n",
    "Lasketaan matriisiesitystä käyttäen, että\n",
    "\n",
    "$$\n",
    "\\begin{align}\n",
    "H\\ket 0 &= \\ket + \\text{ja} \\\\\n",
    "H\\ket 1 &= \\ket -.\n",
    "\\end{align}\n",
    "$$\n",
    "\n",
    "\n",
    "Eli muodostetaan uudet kantavektorit $\\ket +$ ja $\\ket +$ kertomalla H-matriisilla alkuperäiset kantavektorit $\\ket 0$ ja $\\ket 1$ :\n",
    "\n",
    "$$\n",
    "\\ket + = \\frac{1}{\\sqrt 2} (\\ket 0 +  \\ket 1) = \\frac{1}{\\sqrt 2} \\pmatrix {1  \\\\ 1}  \\\\\n",
    "\\ket - = \\frac{1}{\\sqrt 2} (\\ket 0 -  \\ket 1) = \\frac{1}{\\sqrt 2} \\pmatrix {1  \\\\ -1 }\n",
    "$$\n",
    "\n",
    "Kvainttiportit X, Y, Z, ja H ovat unitaarisia, mikä fysikaalisesti tarkoittaa, että kubitin tilavektorien kierrot säilyttävät todennäköisyyden, eli mittaustulosten todennäköisyyksien summa on 1. Matemaattisesti tämä tarkoittaa, että X, Y, Z ja H ovat itsensä käänteismatriiseja, esim. tulo $H*H=I$ on yksikkömatriisi $I$."
   ]
  },
  {
   "cell_type": "code",
   "execution_count": 34,
   "id": "0f72f01a",
   "metadata": {},
   "outputs": [
    {
     "data": {
      "text/latex": [
       "$$\n",
       "\n",
       "\\begin{bmatrix}\n",
       "\\tfrac{1}{\\sqrt{2}} & \\tfrac{1}{\\sqrt{2}}  \\\\\n",
       " \\tfrac{1}{\\sqrt{2}} & -\\tfrac{1}{\\sqrt{2}}  \\\\\n",
       " \\end{bmatrix}\n",
       "$$"
      ],
      "text/plain": [
       "<IPython.core.display.Latex object>"
      ]
     },
     "execution_count": 34,
     "metadata": {},
     "output_type": "execute_result"
    }
   ],
   "source": [
    "H =  1/sqrt(2)*matrix([[1, 1],[1, -1]])\n",
    "latex(H)"
   ]
  },
  {
   "cell_type": "code",
   "execution_count": 35,
   "id": "5c7d46e1",
   "metadata": {},
   "outputs": [
    {
     "data": {
      "text/latex": [
       "$$\n",
       "\n",
       "\\begin{bmatrix}\n",
       "1  \\\\\n",
       " 0  \\\\\n",
       " \\end{bmatrix}\n",
       "$$"
      ],
      "text/plain": [
       "<IPython.core.display.Latex object>"
      ]
     },
     "execution_count": 35,
     "metadata": {},
     "output_type": "execute_result"
    }
   ],
   "source": [
    "#pystyvektori 0 määriteltiin aiemmin seuraavasti:\n",
    "latex(q0)"
   ]
  },
  {
   "cell_type": "code",
   "execution_count": 36,
   "id": "3d1ea537",
   "metadata": {},
   "outputs": [
    {
     "data": {
      "text/latex": [
       "$$\n",
       "\n",
       "\\begin{bmatrix}\n",
       "0  \\\\\n",
       " 1  \\\\\n",
       " \\end{bmatrix}\n",
       "$$"
      ],
      "text/plain": [
       "<IPython.core.display.Latex object>"
      ]
     },
     "execution_count": 36,
     "metadata": {},
     "output_type": "execute_result"
    }
   ],
   "source": [
    "#pystyvektori 1 määriteltiin seuraavasti:\n",
    "latex(q1)"
   ]
  },
  {
   "cell_type": "code",
   "execution_count": 37,
   "id": "b812d2e6",
   "metadata": {},
   "outputs": [
    {
     "data": {
      "text/latex": [
       "$$\n",
       "\n",
       "\\begin{bmatrix}\n",
       "\\tfrac{1}{\\sqrt{2}}  \\\\\n",
       " \\tfrac{1}{\\sqrt{2}}  \\\\\n",
       " \\end{bmatrix}\n",
       "$$"
      ],
      "text/plain": [
       "<IPython.core.display.Latex object>"
      ]
     },
     "execution_count": 37,
     "metadata": {},
     "output_type": "execute_result"
    }
   ],
   "source": [
    "# muodostetaan superpositiotila + kertomalla H matriisilla tila 0:\n",
    "latex(H*q0)"
   ]
  },
  {
   "cell_type": "code",
   "execution_count": 38,
   "id": "564a934f",
   "metadata": {},
   "outputs": [
    {
     "data": {
      "text/latex": [
       "$$\n",
       "\n",
       "\\begin{bmatrix}\n",
       "\\tfrac{1}{\\sqrt{2}}  \\\\\n",
       " -\\tfrac{1}{\\sqrt{2}}  \\\\\n",
       " \\end{bmatrix}\n",
       "$$"
      ],
      "text/plain": [
       "<IPython.core.display.Latex object>"
      ]
     },
     "execution_count": 38,
     "metadata": {},
     "output_type": "execute_result"
    }
   ],
   "source": [
    "# muodostetaan superpositiotila - kertomalla H matriisilla tila 1:\n",
    "latex(H*q1)"
   ]
  },
  {
   "cell_type": "code",
   "execution_count": 39,
   "id": "d545149c",
   "metadata": {},
   "outputs": [
    {
     "data": {
      "text/latex": [
       "$$\n",
       "\n",
       "\\begin{bmatrix}\n",
       "1 & 0  \\\\\n",
       " 0 & 1  \\\\\n",
       " \\end{bmatrix}\n",
       "$$"
      ],
      "text/plain": [
       "<IPython.core.display.Latex object>"
      ]
     },
     "execution_count": 39,
     "metadata": {},
     "output_type": "execute_result"
    }
   ],
   "source": [
    "# Kierto H on unitaarinen, eli H*H=I, missä I on identiteettimatriisi:\n",
    "latex(H*H)"
   ]
  },
  {
   "cell_type": "markdown",
   "id": "4fee8a07",
   "metadata": {},
   "source": [
    "## Lomittuminen (entanglement) ja CNOT-portti\n",
    "\n",
    "Seuraavaksi tarkastelemme controlled NOT -porttia ($\\mathit{CNOT}$), joka on kahden kubitin välinen operaatio. Kahden kubitin kvanttipiirissä systeemin tila esitetään seuraavilla kantavektoreilla:\n",
    "\n",
    "$$\n",
    "\\ket{00},\\ \\ket{01},\\ \\ket{10},\\ \\ket{11}, \n",
    "$$\n",
    "\n",
    "missä \n",
    "\n",
    "$$\n",
    "\\ket{00}=\\pmatrix{1 \\\\ 0 \\\\ 0 \\\\0},\\ \\ket{01}=\\pmatrix{0 \\\\ 1 \\\\ 0 \\\\0},\\ \n",
    "\\ket{10}=\\pmatrix{0 \\\\ 0 \\\\ 1 \\\\0},\\ \\ket{11}=\\pmatrix{0 \\\\ 0 \\\\ 0 \\\\1}.\n",
    "$$\n",
    "\n",
    "$\\mathit{CNOT}$-portin operoidessa ensimmäinen qubitti on ns. ohjaava kubitti (control qubi1t), ja jälkimmäinen on kohdekubitti (target qubit). $\\mathit{CNOT}$ vaikuttaa koko systeemin tilaan seuraavasti:\n",
    "\n",
    "$$\n",
    "\\ket{00} \\rightarrow  \\ket{00}   \\\\\n",
    "\\ket{01} \\rightarrow  \\ket{01}   \\\\\n",
    "\\ket{10} \\rightarrow  \\ket{11}   \\\\\n",
    "\\ket{11} \\rightarrow  \\ket{10}   \\\\\n",
    "$$\n",
    "\n",
    "Tulos tarkoittaa, että jos ensimmäinen, ns. ohjaava kubitti on $0$, niin kohdekubitin tila ei muutu. Jos ohjaavakubitti $1$, niin kohdekubitin tila muuttuu. \n",
    "\n",
    "$\\mathit{CNOT}$-portin matriisiesitys on seuraava:\n",
    "\n",
    "$$\n",
    "\\mathit{CNOT} = \\pmatrix {1 & 0 & 0 & 0 \\\\ 0 & 1 & 0 & 0\\\\ 0 & 0 & 0 & 1 \\\\ 0 & 0 & 1 & 0} \n",
    "$$\n",
    "\n",
    "Huomaa, että vaikka matriisia merkitään monella kirjaimella, se ei ole monen matriisin tulo.\n",
    "\n",
    "Piirrosmerkki, jossa ylempänä esitetty kubitti on ohjaava, ja alempi toimii kohteena:\n",
    "\n",
    "\n",
    "![cnot](images/cnot.png)\n",
    "\n"
   ]
  },
  {
   "cell_type": "markdown",
   "id": "bc558615",
   "metadata": {},
   "source": [
    ">**Lisätietoa:** Yllä esitetyt kahden kubitin tilaa esittävien ket-vektorit ja pystyvektorit perustuvat siis seuraavaan tensoritulon $\\otimes$ määritelmään:\n",
    "\n",
    "\n",
    ">$$ \\ket a = \\begin{pmatrix} a_0 \\\\ a_1 \\end{pmatrix}, \\quad \\ket b = \\begin{pmatrix} b_0 \\\\ b_1 \\end{pmatrix} $$\n",
    "\n",
    ">$$ \n",
    "\\ket {ba} = \\ket b\\otimes \\ket a = \\begin{pmatrix} b_0 \\times \\begin{pmatrix} a_0 \\\\ a_1 \\end{pmatrix} \\\\ b_1 \\times \\begin{pmatrix} a_0 \\\\ a_1 \\end{pmatrix} \\end{pmatrix} = \\begin{pmatrix} b_0 a_0 \\\\ b_0 a_1 \\\\ b_1 a_0 \\\\ b_1 a_1 \\end{pmatrix}\n",
    "$$\n",
    "\n",
    ">Esimerkiksi \n",
    ">$$ \n",
    "\\ket {00} = \\ket 0 \\otimes \\ket 0= \\begin{pmatrix} 1 \\cdot \\begin{pmatrix} 1 \\\\ 0 \\end{pmatrix} \\\\ 0 \\cdot \\begin{pmatrix} 1 \\\\ 0 \\end{pmatrix} \\end{pmatrix} = \\begin{pmatrix} 1\\cdot 1 \\\\ 1\\cdot 0 \\\\ 0 \\cdot 1 \\\\ 0 \\cdot 0 \\end{pmatrix}=\\begin{pmatrix} 1 \\\\ 0 \\\\0\\\\0 \\end{pmatrix} \n",
    "$$"
   ]
  },
  {
   "cell_type": "code",
   "execution_count": 40,
   "id": "10cc246d",
   "metadata": {},
   "outputs": [
    {
     "data": {
      "text/latex": [
       "$$\n",
       "\n",
       "\\begin{bmatrix}\n",
       "1 & 0 & 0 & 0  \\\\\n",
       " 0 & 1 & 0 & 0  \\\\\n",
       " 0 & 0 & 0 & 1  \\\\\n",
       " 0 & 0 & 1 & 0  \\\\\n",
       " \\end{bmatrix}\n",
       "$$"
      ],
      "text/plain": [
       "<IPython.core.display.Latex object>"
      ]
     },
     "execution_count": 40,
     "metadata": {},
     "output_type": "execute_result"
    }
   ],
   "source": [
    "CNOT =  matrix([[1,0, 0,0],[0, 1, 0,0], [0, 0, 0,1], [0, 0, 1,0]])\n",
    "latex(CNOT)"
   ]
  },
  {
   "cell_type": "code",
   "execution_count": 41,
   "id": "ba5fb5e1",
   "metadata": {},
   "outputs": [
    {
     "data": {
      "text/latex": [
       "$$\n",
       "\n",
       "\\begin{bmatrix}\n",
       "1  \\\\\n",
       " 0  \\\\\n",
       " 0  \\\\\n",
       " 0  \\\\\n",
       " \\end{bmatrix}\n",
       "$$"
      ],
      "text/plain": [
       "<IPython.core.display.Latex object>"
      ]
     },
     "execution_count": 41,
     "metadata": {},
     "output_type": "execute_result"
    }
   ],
   "source": [
    "# määritellään pystyvektorina kubitin kvanttitila |00>:\n",
    "q00 = matrix([[1],[0],[0],[0]])\n",
    "latex(q00)\n",
    "\n"
   ]
  },
  {
   "cell_type": "code",
   "execution_count": 42,
   "id": "86c941b3",
   "metadata": {},
   "outputs": [
    {
     "data": {
      "text/latex": [
       "$$\n",
       "\n",
       "\\begin{bmatrix}\n",
       "0  \\\\\n",
       " 0  \\\\\n",
       " 1  \\\\\n",
       " 0  \\\\\n",
       " \\end{bmatrix}\n",
       "$$"
      ],
      "text/plain": [
       "<IPython.core.display.Latex object>"
      ]
     },
     "execution_count": 42,
     "metadata": {},
     "output_type": "execute_result"
    }
   ],
   "source": [
    "# määritellään pystyvektorina kubitin kvanttitila |01>:\n",
    "q01 = matrix([[0],[1],[0],[0]])\n",
    "\n",
    "# |10>\n",
    "q10 = matrix([[0],[0],[1],[0]])\n",
    "\n",
    "# |11>\n",
    "\n",
    "q11 = matrix([[0],[0],[0],[1]])\n",
    "# tulostetaan tila 10:\n",
    "latex(q10)"
   ]
  },
  {
   "cell_type": "code",
   "execution_count": 43,
   "id": "1c1440f0",
   "metadata": {},
   "outputs": [
    {
     "data": {
      "text/latex": [
       "$$\n",
       "\n",
       "\\begin{bmatrix}\n",
       "0  \\\\\n",
       " 0  \\\\\n",
       " 0  \\\\\n",
       " 1  \\\\\n",
       " \\end{bmatrix}\n",
       "$$"
      ],
      "text/plain": [
       "<IPython.core.display.Latex object>"
      ]
     },
     "execution_count": 43,
     "metadata": {},
     "output_type": "execute_result"
    }
   ],
   "source": [
    "#tulostetaan tila 11\n",
    "latex(q11)"
   ]
  },
  {
   "cell_type": "markdown",
   "id": "f4b63409",
   "metadata": {},
   "source": [
    "Tunnista missä tilanteissa ohjaavakubitti vaihtaa kohdekubitin tilaa. Vertaa piirin toimintaa ket-merkintään:\n",
    " \n",
    " $$\n",
    "\\ket{01} \\rightarrow  \\ket{01} \\text{eli laske tulo  } \\mathit{CNOT} \\ket{01}  \\\\\n",
    "\\ket{10} \\rightarrow  \\ket{11}  \\text{eli laske tulo  } \\mathit{CNOT} \\ket{10} \\\\\n",
    "$$"
   ]
  },
  {
   "cell_type": "code",
   "execution_count": 44,
   "id": "0c326c4c",
   "metadata": {},
   "outputs": [
    {
     "data": {
      "text/latex": [
       "$$\n",
       "\n",
       "\\begin{bmatrix}\n",
       "0  \\\\\n",
       " 1  \\\\\n",
       " 0  \\\\\n",
       " 0  \\\\\n",
       " \\end{bmatrix}\n",
       "$$"
      ],
      "text/plain": [
       "<IPython.core.display.Latex object>"
      ]
     },
     "execution_count": 44,
     "metadata": {},
     "output_type": "execute_result"
    }
   ],
   "source": [
    "# CNOT 01 --> 01\n",
    "latex(CNOT*q01)"
   ]
  },
  {
   "cell_type": "code",
   "execution_count": 45,
   "id": "a8b4e05f",
   "metadata": {},
   "outputs": [
    {
     "data": {
      "text/latex": [
       "$$\n",
       "\n",
       "\\begin{bmatrix}\n",
       "0  \\\\\n",
       " 0  \\\\\n",
       " 0  \\\\\n",
       " 1  \\\\\n",
       " \\end{bmatrix}\n",
       "$$"
      ],
      "text/plain": [
       "<IPython.core.display.Latex object>"
      ]
     },
     "execution_count": 45,
     "metadata": {},
     "output_type": "execute_result"
    }
   ],
   "source": [
    "# CNOT 10 --> 11\n",
    "latex(CNOT*q10)"
   ]
  },
  {
   "cell_type": "markdown",
   "id": "bb1bac56",
   "metadata": {},
   "source": [
    "## Kvanttipiirin määrittely IBM qiskit -ympäristössä.\n",
    "\n",
    "Seuraavaksi tutkimme esimerkin avulla mitä tarkoitetaan kvanttipiirillä, joka rakentuu systeemin tilan kuvaamiseksi tarvittavista kubiteista ja ns kvanttiporteista, joiden avulla rakennetaan kubittien väliset kytkennät ja määritetään kvanttipiirin kuvaaman kvanttialgoritmin toiminta. Kvanttipiiri määritellään IBM Qiskit -ohjelmointiympäristössä python-ohjelmointikielellä. Kun IBM:n ohjelmointiympäristö Qiskitin työkalut on asennettu omalle koneelle, jossa tehdään kvanttipiirin määrittely ja piirin toiminnan simulointi.  Tämän jälkeen kvanttipiiri on mahdollista lähettää verkon yli oikealle kvanttitietokoneelle suoritettavaksi."
   ]
  },
  {
   "cell_type": "code",
   "execution_count": 46,
   "id": "c4453c58",
   "metadata": {},
   "outputs": [
    {
     "data": {
      "image/png": "[encoded data removed]",
      "text/plain": [
       "<Figure size 143.095x204.68 with 1 Axes>"
      ]
     },
     "execution_count": 46,
     "metadata": {},
     "output_type": "execute_result"
    }
   ],
   "source": [
    "# Etene vaiheittain, suorita koodilohkot painamalla Run-nappia ylhäältä.\n",
    "\n",
    "from qiskit import *\n",
    "# Luodaan 2 kubittia ja 2 klassista rekisteriä jonne tallenetaan mittaustulokset. Kubittien alkutila on 0\n",
    "quantum_register = QuantumRegister(2)\n",
    "classical_register = ClassicalRegister(2)\n",
    "circuit = QuantumCircuit(quantum_register, classical_register)\n",
    "\n",
    "%matplotlib inline\n",
    "circuit.draw(output='mpl')"
   ]
  },
  {
   "cell_type": "code",
   "execution_count": 47,
   "id": "61daa573",
   "metadata": {},
   "outputs": [
    {
     "data": {
      "image/png": "[encoded data removed]",
      "text/plain": [
       "<Figure size 173.195x204.68 with 1 Axes>"
      ]
     },
     "execution_count": 47,
     "metadata": {},
     "output_type": "execute_result"
    }
   ],
   "source": [
    "# Lisätään Hadamard-portti H \n",
    "circuit.h(quantum_register[0])\n",
    "circuit.draw(output='mpl')"
   ]
  },
  {
   "cell_type": "code",
   "execution_count": 48,
   "id": "9750c9ed",
   "metadata": {},
   "outputs": [
    {
     "data": {
      "image/png": "[encoded data removed]",
      "text/plain": [
       "<Figure size 233.395x204.68 with 1 Axes>"
      ]
     },
     "execution_count": 48,
     "metadata": {},
     "output_type": "execute_result"
    }
   ],
   "source": [
    "# Lisätään kvanttipiiriin CNOT-portti cx()-komennolla\n",
    "#kubitti 0 on ohjaava kubitti, ja 1.kubitti on kohde\n",
    "circuit.cx(quantum_register[0], quantum_register[1])\n",
    "circuit.draw(output='mpl')"
   ]
  },
  {
   "cell_type": "markdown",
   "id": "7544f66b",
   "metadata": {},
   "source": [
    "Koodissa luodaan kahden kubitin kvanttipiiri. Kubitia q0 operoidaan Hadamard-portilla, jolloin kubitti q0 asettuu tilojen 0 ja 1 superpositioon. Kubittien q0 ja q1 välille muodostetaan lomittuminen eli kytkentä ns CNOT-portilla (Controlled NOT). Kvanttipiirin piirroksessa kytkennässä ylempi (pisteellä merkitty) kubitti q0 on ohjaava kubitti ja q1 ja alempi (+ merkillä ) toimii kohteena. Kvantipiirin toiminnan aikakehitys esitetään piirroksena, jota luetaan kuin nuottiviivastoa vasemmalta oikealle."
   ]
  },
  {
   "cell_type": "code",
   "execution_count": 49,
   "id": "81da27b2",
   "metadata": {},
   "outputs": [
    {
     "data": {
      "image/png": "[encoded data removed]",
      "text/plain": [
       "<Figure size 353.795x204.68 with 1 Axes>"
      ]
     },
     "execution_count": 49,
     "metadata": {},
     "output_type": "execute_result"
    }
   ],
   "source": [
    "# Mitataan molemmat kubitit, ja tallennetaan tulokset klassiseen rekisteriin\n",
    "circuit.measure(quantum_register, classical_register)\n",
    "circuit.draw(output='mpl')"
   ]
  },
  {
   "cell_type": "markdown",
   "id": "d5814f91",
   "metadata": {},
   "source": [
    "Koodissa kvanttirekisterien tila mitataan ja mittaustulokset tallennetaan klassisen tietokoneen rekisteriin cl. Koska kubittien q0 ja q1 välillä on kytkentä, niin ohjaavan kubitin q0 mittaustulos vaikuttaa siihen mihin tilaan kubitti q1 asettuu mittauksessa. "
   ]
  },
  {
   "cell_type": "code",
   "execution_count": 50,
   "id": "e6c05d5e",
   "metadata": {},
   "outputs": [
    {
     "data": {
      "image/png": "[encoded data removed]",
      "text/plain": [
       "<Figure size 504x360 with 1 Axes>"
      ]
     },
     "execution_count": 50,
     "metadata": {},
     "output_type": "execute_result"
    }
   ],
   "source": [
    "# Simuloidaan piirin toiminta.\n",
    "simulator = Aer.get_backend('qasm_simulator')\n",
    "execute(circuit, backend=simulator)\n",
    "result = execute(circuit, backend=simulator).result()\n",
    "from qiskit.tools.visualization import plot_histogram\n",
    "plot_histogram(result.get_counts(circuit))"
   ]
  },
  {
   "cell_type": "markdown",
   "id": "f6eabf3e",
   "metadata": {},
   "source": [
    "Tulos tarkoittaa, että jos ensimmäinen, ns. ohjaava kubitti on 0, niin kohdekubitin tila ei muutu. Jos ohjaavakubitti on tilassa 1, niin kohdekubitin tila muuttuu."
   ]
  },
  {
   "cell_type": "markdown",
   "id": "b5414b9f",
   "metadata": {},
   "source": [
    "Simuloinnin tuloksista havaitaan, että mittauksessa kvanttipiiri asettuu 50% todennäiköisyydellä tilaan, jossa molempien kubittien tila on 0 , tai 50% todennäköisyydellä tilaan jossa molempien kubittien lopputilaksi mitattiin 1. Tulokset eivät välttämättä jakaudu aivan tasan 50 % ja 50 %, jos simuloinnissa kvanttipiirin toimintaa simuloidaan rajallisella määrällä kierroksia. Tämän simuloinnin jälkeen koodissa määritetty kahden kubitin kvanttipiiri on mahdollista lähettää verkon yli oikean kvanttitietokoneen suoritettavaksi.\n",
    "\n",
    "![tulokset](images/tulokset.png)\n",
    "\n",
    "Kuvassa on esitetty tulokset, jotka on saatu suorittamalla algoritmi oikella kvanttikoneella (1.11.2020). Tuloksista nähdään, että oikea kvanttikone saa laskennan tulokseksi myös virheellisiä arvoja 01 ja 10."
   ]
  },
  {
   "cell_type": "code",
   "execution_count": 51,
   "id": "51693f07",
   "metadata": {},
   "outputs": [
    {
     "data": {
      "text/html": [
       "<iframe src=\"https://bloch.ollpu.fi\" width=\"600\" height=\"500\"></iframe>\n"
      ],
      "text/plain": [
       "<IPython.core.display.HTML object>"
      ]
     },
     "metadata": {},
     "output_type": "display_data"
    }
   ],
   "source": [
    "%%html\n",
    "<iframe src=\"https://bloch.ollpu.fi\" width=\"600\" height=\"500\"></iframe>"
   ]
  },
  {
   "cell_type": "code",
   "execution_count": null,
   "id": "0e4286ec",
   "metadata": {},
   "outputs": [],
   "source": []
  }
 ],
 "metadata": {
  "kernelspec": {
   "display_name": "Python 3 (ipykernel)",
   "language": "python",
   "name": "python3"
  },
  "language_info": {
   "codemirror_mode": {
    "name": "ipython",
    "version": 3
   },
   "file_extension": ".py",
   "mimetype": "text/x-python",
   "name": "python",
   "nbconvert_exporter": "python",
   "pygments_lexer": "ipython3",
   "version": "3.10.0"
  }
 },
 "nbformat": 4,
 "nbformat_minor": 5
}
