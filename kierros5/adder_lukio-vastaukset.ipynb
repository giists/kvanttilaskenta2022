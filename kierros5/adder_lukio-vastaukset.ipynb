{
 "cells": [
  {
   "cell_type": "markdown",
   "metadata": {},
   "source": [
    "# Quantum binary adder\n",
    "\n",
    "We are inspired by [this tutorial](https://medium.com/@sashwat.anagolum/arithmetic-on-quantum-computers-addition-7e0d700f53ae), but our implementation is slightly different."
   ]
  },
  {
   "cell_type": "code",
   "execution_count": 1,
   "metadata": {},
   "outputs": [],
   "source": [
    "from qiskit import *\n",
    "from qiskit.visualization import *\n",
    "import numpy as np"
   ]
  },
  {
   "cell_type": "markdown",
   "metadata": {},
   "source": [
    "## How to add in binary\n",
    "\n",
    "This works just like what we learned in elementary school:\n",
    "\n",
    "1. Lay the numbers represented in binary one above the other. For example the numbers `21` and `26` are in binary `10101` and `11010` respectively\n",
    "1. Sum each column from right to left below the line\n",
    "1. If the sum requires two digits (bits) to represent, carry the left bit (at the `10`s place) to the next column and place the right bit (at the `1`s place) under the line\n",
    "\n",
    "In the image, the numbers `21` and `26` are added together in binary. The digit in orange represents the only carry bit that is `1`. The sum is `101111` which is `47` in decimal.\n",
    "\n",
    "<img style=\"display: block;margin-left: auto;margin-right: auto;width: 30%\" src=\"images/binary_add.png\">\n",
    "\n",
    "## Binary addition of two bits\n",
    "\n",
    "Adding two binary digits (bits) with logic gates is easy. The sum can be computed with a single exclusive OR operation and a single AND of the bits.\n",
    "\n",
    "Exclusive OR, which is called `XOR` for short does the following:\n",
    "\n",
    "<img style=\"display: block;margin-left: auto;margin-right: auto;width: 30%\" src=\"images/xor.png\">\n",
    "\n",
    "The `AND` operation:\n",
    "\n",
    "<img style=\"display: block;margin-left: auto;margin-right: auto;width: 30%\" src=\"images/and.png\">\n",
    "\n",
    "The result (i.e. the output) of the `XOR` operation is called the _sum_ and the result of the `AND` operation is called the _carry_.\n",
    "\n",
    "## Half adder\n",
    "\n",
    "When we combine the output of these two gates we get a _half adder_, which takes two bits and computes their _sum_ and _carry_:\n",
    "\n",
    "<img style=\"display: block;margin-left: auto;margin-right: auto;width: 60%\" src=\"images/half_adder.png\">\n",
    "\n",
    "## Carry\n",
    "\n",
    "The result from `A AND B` is called the _carry_ bit because it is used to carry the overflow from the summation to the next one. However the next adder now needs to add three bits: `A + B + C` in order to include the carry bit from the previous computation. This is why we need to create a binary adder for three bits which is called a full adder.\n",
    "\n",
    "> **Note:** The carry bit is on if and only if there was overflow in the summation. The terms _carry_ and _overflow_ are therefore used interchangeably.\n",
    "\n",
    "Before diving in to the full adder let's see how we could use two half adders for adding two two-bit numbers together and where it would fail. We will ignore the carry bits as there is no way to take them into account with the half adders.\n",
    "\n",
    "<img style=\"display: block;margin-left: auto;margin-right: auto;width: 30%\" src=\"images/success.png\">\n",
    "\n",
    "When the addition of the individual digits never overflows, the carry is 0 and the sum is correct: $1 + 2 = 3$. However if there is overflow, the carry is not zero and the sum is incorrect:\n",
    "\n",
    "<img style=\"display: block;margin-left: auto;margin-right: auto;width: 30%\" src=\"images/fail.png\">\n",
    "\n",
    "$1 + 3 = 2$ is false.\n",
    "\n",
    "We simply need more adding capabilities to include the carry bits in the calculation.\n",
    "\n",
    "## Full adder\n",
    "\n",
    "A _full adder_ takes three bits `A`, `B` and `C` as input and outputs two bits `CARRY` and `SUM`. The half adder only took two bits as input. The full adder solves our problem, where with a half adder we could not include the carry bits in the calculation.\n",
    "\n",
    "The full adder operates like this:\n",
    "\n",
    "<img style=\"display: block;margin-left: auto;margin-right: auto;width: 60%\" src=\"images/full_adder.png\">\n",
    "\n",
    "A full adder can be made from two half adders and an OR gate. With $N$ full adders we can finaly add any two $N$-digit binary number together. Here's what it looks like:\n",
    "\n",
    "\n",
    "`A = 10101` (21 in decimal) and `B = 10111` (23 in decimal) are added together. The carry output from each column's full adder is moved over to the `C` input of the next columns. Each column requires one full adder except for the rightmost one.\n",
    "\n",
    "> If there was something to carry from the leftmost column, we would have what's called _integer overflow_.\n",
    "\n",
    "The sum of the numbers is in the `SUM` register.\n",
    "\n",
    "<img style=\"display: block;margin-left: auto;margin-right: auto;width: 60%\" src=\"images/full_example.png\">"
   ]
  },
  {
   "cell_type": "markdown",
   "metadata": {},
   "source": [
    "## Quantum addition\n",
    "\n",
    "Next we will create a quantum full adder which works exactly like its classical counterpart. Before we can create the circuit, we need to define how we represent bits on a quantum computer.\n",
    "\n",
    "> As you might have guessed, using one qubit to represent one bit is very inefficient.\n",
    "\n",
    "## Representing bits with qubits\n",
    "\n",
    "A qubit can be used to represent a binary digit with for example these two pure states: $|0\\rangle$ or $|1\\rangle$. A $|0\\rangle$ state represent `0` in binary and $|1\\rangle$ represents `1`. All binary operators can be created using quantum gates. For now we only consider pure states, which are deterministic and are not in a superposition.\n",
    "\n",
    "For example the classical `NOT` operator can be represented by the $X$ gate. The $Y$ gate would also work.\n",
    "\n",
    "### Exercise 1\n",
    "\n",
    "Run the following code and write to the prompt `0` or `1` to see what its logical `NOT` is."
   ]
  },
  {
   "cell_type": "code",
   "execution_count": 6,
   "metadata": {},
   "outputs": [
    {
     "name": "stdout",
     "output_type": "stream",
     "text": [
      "Write 1 or 0: 1\n"
     ]
    },
    {
     "data": {
      "image/png": "[encoded data removed]",
      "text/plain": [
       "<Figure size 478.079x144.48 with 1 Axes>"
      ]
     },
     "metadata": {},
     "output_type": "display_data"
    },
    {
     "name": "stdout",
     "output_type": "stream",
     "text": [
      "NOT 1 = 0\n"
     ]
    }
   ],
   "source": [
    "qc = QuantumCircuit(1)\n",
    "\n",
    "state = int(input('Write 1 or 0: '))\n",
    "\n",
    "qc.initialize(state, 0)\n",
    "qc = qc.decompose()\n",
    "qc.barrier() # visual separation\n",
    "\n",
    "qc.y(0)\n",
    "\n",
    "qc.measure_all()\n",
    "display(qc.draw(output='mpl'))\n",
    "\n",
    "backend = Aer.get_backend('aer_simulator')\n",
    "output = next(iter(backend.run(qc).result().get_counts().keys()))\n",
    "print(f\"NOT {state} = {output}\")"
   ]
  },
  {
   "cell_type": "markdown",
   "metadata": {},
   "source": [
    "## `XOR` with $CX$ gates\n",
    "\n",
    "With a controlled $X$ gate (a $CX$) we can achieve the following truth table with qubits in basis states $|0\\rangle$ or $|1\\rangle$:\n",
    "\n",
    "<img style=\"display: block;margin-left: auto;margin-right: auto;width: 30%\" src=\"images/xor.png\">\n",
    "\n",
    "The following quantum circuit can be observed to have identical behavior.\n",
    "\n",
    "### Exercise 2\n",
    "\n",
    "Run the following code and input two bits e.g. `01` in the prompt and write the answer below. Do the same for all four combinations of two bits."
   ]
  },
  {
   "cell_type": "code",
   "execution_count": 10,
   "metadata": {},
   "outputs": [
    {
     "name": "stdout",
     "output_type": "stream",
     "text": [
      "Write two bits: 11\n"
     ]
    },
    {
     "data": {
      "image/png": "[encoded data removed]",
      "text/plain": [
       "<Figure size 387.452x204.68 with 1 Axes>"
      ]
     },
     "metadata": {},
     "output_type": "display_data"
    },
    {
     "name": "stdout",
     "output_type": "stream",
     "text": [
      "1 XOR 1 = 0\n"
     ]
    }
   ],
   "source": [
    "qc = QuantumCircuit(2, 1)\n",
    "\n",
    "states = int(input('Write two bits: '), 2)\n",
    "\n",
    "qc.initialize(states, [1, 0])\n",
    "qc = qc.decompose()\n",
    "qc.barrier()\n",
    "\n",
    "qc.cx(0, 1)\n",
    "\n",
    "qc.measure(1, 0)\n",
    "display(qc.draw(output='mpl'))\n",
    "\n",
    "backend = Aer.get_backend('aer_simulator')\n",
    "output = next(iter(backend.run(qc).result().get_counts().keys()))\n",
    "print(f\"{states // 2} XOR {states % 2} = {output}\")"
   ]
  },
  {
   "cell_type": "markdown",
   "metadata": {},
   "source": [
    "Write the answers to exercise 2 here:\n",
    "- `0 XOR 0` = 0 TODO\n",
    "- `0 XOR 1` = 1 TODO\n",
    "- `1 XOR 0` = 1 TODO\n",
    "- `1 XOR 1` = 0 TODO"
   ]
  },
  {
   "cell_type": "markdown",
   "metadata": {},
   "source": [
    "The circuit always calculates the exclusive OR result to the qubit that is the target of the $CX$. The control qubit is left unchanged.\n",
    "\n",
    "## `AND` gate\n",
    "\n",
    "The quantum `AND` gate is a bit more tricky as it cannot store the result to one of the input qubits like the `XOR` does.\n",
    "\n",
    "<details open>\n",
    "<summary>No-AND theorem proof</summary>\n",
    "\n",
    "<blockquote>\n",
    "\n",
    "### Why a two qubit `AND` gate cannot exist?\n",
    "\n",
    "The truth table for an (impossible) `AND` gate would be\n",
    "\n",
    "$$\n",
    "\\begin{align}\n",
    "AND |ab\\rangle &= |cd\\rangle \\\\\n",
    "\\hline\n",
    "AND |00\\rangle &= |00\\rangle \\\\\n",
    "AND |01\\rangle &= |00\\rangle \\\\\n",
    "AND |10\\rangle &= |10\\rangle \\\\\n",
    "AND |11\\rangle &= |11\\rangle\n",
    "\\end{align}\n",
    "$$\n",
    "\n",
    "where $AND$ is a $4×4$ matrix, $a$ and $b$ are the input qubits and $d$ is $1$ if and only if both $a$ and $b$ are $1$.\n",
    "\n",
    "> In the quantum circuit you can think that $|ab\\rangle$ is the input to the gate and $|cd\\rangle$ is the output.\n",
    "\n",
    "We observe that the output state $|00\\rangle$ is the outcome of two input states: $|00\\rangle$ and $|01\\rangle$. The following picture describes the $AND$ gate as a function:\n",
    "\n",
    "<img style=\"display: block;margin-left: auto;margin-right: auto;width: 30%\" src=\"images/and_set.png\">\n",
    "\n",
    "The inverse of this function, namely $AND^{-1}$, would look like the following:\n",
    "\n",
    "<img style=\"display: block;margin-left: auto;margin-right: auto;width: 30%\" src=\"images/and_inv_set.png\">\n",
    "\n",
    "Which is impossible to define, and thus the inverse does not exist. For the $AND$ matrix to be unitary, the following equation must be true:\n",
    "\n",
    "$$\n",
    "AND\\ AND^{-1} = I\n",
    "$$\n",
    "\n",
    "Therefore, as $AND^{-1}$ does not exist, $AND$ is not unitary.\n",
    "</blockquote>\n",
    "</details>\n",
    "\n",
    "## Toffoli gate\n",
    "\n",
    "The $CCX$ gate, also known as the Toffoli gate, is the $AND$ gate we need. It operates on three qubits flipping the target if and only if the control qubits are $1$.\n",
    "\n",
    "<h3 id=\"Exercise-3\">Exercise 3</h3>\n",
    "\n",
    "Run the following code to see how the measurement of $q_2$ resulted in the binary `AND` operation of $q_0 \\land q_1$.\n",
    "\n",
    "Modify the circuit to implement a quantum $OR$ gate. (Hint: all you need to add are $X$ gates)"
   ]
  },
  {
   "cell_type": "code",
   "execution_count": 26,
   "metadata": {},
   "outputs": [
    {
     "name": "stdout",
     "output_type": "stream",
     "text": [
      "00 --> 0\n",
      "01 --> 1\n",
      "10 --> 1\n",
      "11 --> 1\n"
     ]
    },
    {
     "data": {
      "image/png": "[encoded data removed]",
      "text/plain": [
       "<Figure size 507.997x264.88 with 1 Axes>"
      ]
     },
     "metadata": {},
     "output_type": "display_data"
    }
   ],
   "source": [
    "states = ['00', '01', '10', '11']\n",
    "\n",
    "for s in states:\n",
    "    qc = QuantumCircuit(3, 1)\n",
    "\n",
    "    qc.initialize(int(s, 2), [1, 0])\n",
    "    qc.barrier()\n",
    "    qc = qc.decompose()\n",
    "\n",
    "    # TODO implement the OR gate\n",
    "    qc.x(0)\n",
    "    qc.x(1)\n",
    "    qc.ccx(0, 1, 2)\n",
    "    qc.x(2)\n",
    "\n",
    "    qc.measure(2, 0)\n",
    "\n",
    "    backend = Aer.get_backend('aer_simulator')\n",
    "    output = next(iter(backend.run(qc).result().get_counts().keys()))\n",
    "    q2 = output[0] # first bit in the register is the last qubit that was measured\n",
    "    print(s, '-->', q2)\n",
    "\n",
    "display(qc.draw(output='mpl'))"
   ]
  },
  {
   "cell_type": "markdown",
   "metadata": {},
   "source": [
    "## Optional material: No cloning\n",
    "\n",
    "It is worth pointing out that the input in this circuit is not always available after the gates as it is impossible to clone arbitrary qubits. This restriction also requires us to use ancillas in our addition circuit.\n",
    "\n",
    "<details>\n",
    "<summary>Click here to show a proof of the no-cloning theorem</summary>\n",
    "<blockquote>\n",
    "Suppose we have a quantum gate $U$ which operates on two qubits: the first ($\\psi$ or $\\phi$) is the qubit to clone and the second ($s$) is the target to clone to.\n",
    "\n",
    "For all single qubit states $\\psi$ and $\\phi$ and some qubit $s$ the following equations must hold for the clone gate $U$:\n",
    "\n",
    "$$\n",
    "U |\\psi s\\rangle = |\\psi\\psi\\rangle \\\\\n",
    "U |\\phi s\\rangle = |\\phi\\phi\\rangle\n",
    "$$\n",
    "\n",
    "We shall take the Hermitian adjoint of both sides of the second equation:\n",
    "\n",
    "$$\n",
    "U |\\psi s\\rangle = |\\psi\\psi\\rangle \\\\\n",
    "\\big(U |\\phi s\\rangle\\big)^\\dagger = \\big(|\\phi\\phi\\rangle\\big)^\\dagger\n",
    "$$\n",
    "\n",
    "And multiply the corresponding sides of the equations together in the order that calculates their inner product (row vector first):\n",
    "\n",
    "$$\n",
    "\\Rightarrow \\big(U |\\phi s\\rangle\\big)^\\dagger U |\\psi s\\rangle = \\big(|\\phi\\phi\\rangle\\big)^\\dagger |\\psi\\psi\\rangle\n",
    "$$\n",
    "\n",
    "<blockquote>\n",
    "A quick note about the Hermitian adjoint: Taking the Hermitian adjoint of a matrix product applies it to all matrices and reverses the order of the matrices. For example:\n",
    "\n",
    "$$\n",
    "\\big(ABC\\big)^\\dagger = C^\\dagger B^\\dagger A^\\dagger\n",
    "$$\n",
    "</blockquote>\n",
    "\n",
    "Simplifying the equation gives us:\n",
    "\n",
    "$$\n",
    "\\Leftrightarrow |\\phi s\\rangle^\\dagger U^\\dagger U |\\psi s\\rangle = |\\phi\\phi\\rangle^\\dagger |\\psi\\psi\\rangle\n",
    "$$\n",
    "\n",
    "Due to the associativity of matrix multiplication and unitarity of $U$ we can write $U^\\dagger U = I$ and omit it from the equation:\n",
    "\n",
    "$$\n",
    "\\Leftrightarrow |\\phi s\\rangle^\\dagger |\\psi s\\rangle = |\\phi\\phi\\rangle^\\dagger |\\psi\\psi\\rangle\n",
    "$$\n",
    "\n",
    "Let's express some of the two-qubit states with a tensor product\n",
    "\n",
    "$$\n",
    "\\Leftrightarrow \\big(|\\phi\\rangle \\otimes |s\\rangle\\big)^\\dagger |\\psi s\\rangle = \\big(|\\phi\\rangle \\otimes |\\phi\\rangle \\big)^\\dagger |\\psi\\psi\\rangle\n",
    "$$\n",
    "\n",
    "<blockquote>\n",
    "A quick note about the Hermitian adjoint operating on a tensor product: The Hermitian adjoint applies to all matrices but the order of the product stays the same. For example:\n",
    "\n",
    "$$\n",
    "|abc\\rangle^\\dagger\n",
    "= \\big(|a\\rangle \\otimes |b\\rangle \\otimes |c\\rangle\\big)^\\dagger\n",
    "= |a\\rangle^\\dagger \\otimes |b\\rangle^\\dagger \\otimes |c\\rangle^\\dagger\n",
    "= \\langle a| \\otimes \\langle b| \\otimes \\langle c| = \\langle abc |\n",
    "$$\n",
    "</blockquote>\n",
    "\n",
    "$$\n",
    "\\Leftrightarrow \\langle \\phi s |\\psi s\\rangle = \\langle \\phi\\phi|\\psi\\psi\\rangle\n",
    "$$\n",
    "\n",
    "<blockquote>\n",
    "And a quick not about the tensor product: Taking a matrix product of two tensored matrices is the same as taking the tensor product of the respective matrices multiplied together. For example:\n",
    "\n",
    "$$\n",
    "\\big(A\\otimes B\\big)\\big(C\\otimes D\\big) = AC \\otimes BD \\\\\n",
    "\\langle ab|cd\\rangle = \\big(\\langle a|\\otimes\\langle b|\\big)\\big(|c\\rangle\\otimes|d\\rangle\\big) = \\langle a|c\\rangle\\otimes\\langle b|d\\rangle\n",
    "$$\n",
    "\n",
    "> Also note that the precedence of the tensor product is undefined but generally lower than that of (matrix) multiplication.\n",
    "</blockquote>\n",
    "\n",
    "$$\n",
    "\\Leftrightarrow \\langle\\phi|\\psi\\rangle \\otimes \\langle s|s\\rangle = \\langle \\phi|\\psi\\rangle \\otimes \\langle \\phi|\\psi\\rangle\n",
    "$$\n",
    "\n",
    "Taking the tensor product of $1×1$ matrices is basically the same as scalar multiplication. Also, as $s$ is a normalized vector, taking an inner product with itself will be unit:\n",
    "\n",
    "$$\n",
    "\\langle s|s\\rangle = 1\n",
    "$$\n",
    "\n",
    "$$\n",
    "\\Leftrightarrow \\langle\\phi|\\psi\\rangle = \\big(\\langle \\phi|\\psi\\rangle\\big)^2 \\\\\n",
    "\\Leftrightarrow \\langle\\phi|\\psi\\rangle \\in \\big\\{0, 1\\big\\}\n",
    "$$\n",
    "\n",
    "This means the the two qubit state $|\\phi\\rangle$ and $|\\psi\\rangle$ cannot be arbitrary as they must be orthogonal or the same state, therefore a generic cloning gate $U$ does not exist.\n",
    "\n",
    "### \"Cloning\" gates do exist\n",
    "\n",
    "However specialized cloning gates do exist. It is very easy to create a gate which can clone a $|0\\rangle$ qubit or a $|1\\rangle$ qubit. This is possible because the states are orthogonal (their inner product is 0). A gate which can do this is just the $CX$ gate controlled by the qubit to be cloned.\n",
    "\n",
    "But now you might wonder why it can't clone superpositions even though it is linear: if it clones $|0\\rangle$ and $|1\\rangle$ perfectly, why couldn't it clone a mix of them? The reason is that the original qubit and the target might get entangled. For example cloning a qubit in the $|+\\rangle$ state gets entangled with a qubit in the $|0\\rangle$ state in the $CX$ gate. It's not useful to have a cloned qubit which is entangled with the original, because operating on the other changes the other or measuring the other collapses the state of the other.\n",
    "\n",
    "The following picture \"clones\" the upper qubit to the lower qubit, but after measuring the lower qubit the upper qubit is no longer in a superposition: $|+\\rangle$ has collapsed to $|1\\rangle$.\n",
    "\n",
    "<img style=\"display: block;margin-left: auto;margin-right: auto;width: 60%\" src=\"images/entanglement.png\">\n",
    "\n",
    "> **Note:** The picture describes one of two outcomes of the circuit. They can both be $|0\\rangle$ too. **Note 2:** The blue arrow does not indicate a transfer of any information.\n",
    "</blockquote>\n",
    "</details>"
   ]
  },
  {
   "cell_type": "markdown",
   "metadata": {},
   "source": [
    "## Quantum addition of two qubits\n",
    "\n",
    "Next we will create the half adder in a quantum circuit. Remember that our qubits represent binary digits using two states: $|0\\rangle$ and $|1\\rangle$, superposition is not taken into account yet.\n",
    "\n",
    "A half adder adds two bits and indicates overflow with the carry bit. A quantum half adder adds two qubits and indicates overflow with the carry qubit.\n",
    "\n",
    "A classical half adder consists of a `XOR` gate and an `AND` gate. Here is a quantum half adder consisting of a $CX$ gate and a $CCX$ gate:"
   ]
  },
  {
   "cell_type": "code",
   "execution_count": 27,
   "metadata": {},
   "outputs": [
    {
     "data": {
      "image/png": "[encoded data removed]",
      "text/plain": [
       "<Figure size 595.599x264.88 with 1 Axes>"
      ]
     },
     "metadata": {},
     "output_type": "display_data"
    },
    {
     "name": "stdout",
     "output_type": "stream",
     "text": [
      "A B --> CARRY SUM\n",
      "0 0 -->     0   0\n",
      "0 1 -->     0   1\n",
      "1 0 -->     0   1\n",
      "1 1 -->     1   0\n"
     ]
    }
   ],
   "source": [
    "states = ['00', '01', '10', '11']\n",
    "\n",
    "half_adder = QuantumCircuit(QuantumRegister(1, 'a'),\n",
    "                            QuantumRegister(1, 'b'),\n",
    "                            QuantumRegister(1, 'c'), name='H') # H for Half\n",
    "half_adder.ccx(0, 1, 2)\n",
    "half_adder.cx(0, 1)\n",
    "\n",
    "results = \"\"\n",
    "for s in states:\n",
    "    a = QuantumRegister(1, 'a')\n",
    "    b = QuantumRegister(1, 'b')\n",
    "    carry = QuantumRegister(1, 'carry')\n",
    "    x = ClassicalRegister(2, 'x')\n",
    "    qc = QuantumCircuit(a, b, carry, x)\n",
    "\n",
    "    qc.initialize(int(s, 2), [1, 0])\n",
    "    qc.barrier()\n",
    "\n",
    "    qc.append(half_adder, [a, b, carry])\n",
    "    qc = qc.decompose()\n",
    "\n",
    "    qc.barrier()\n",
    "    qc.measure(b, x[0])\n",
    "    qc.measure(carry, x[1])\n",
    "\n",
    "    backend = Aer.get_backend('aer_simulator')\n",
    "    output = next(iter(backend.run(qc).result().get_counts().keys()))\n",
    "\n",
    "    sum_ = output[1]\n",
    "    carry = output[0]\n",
    "    results += f\"\\n{s[0]} {s[1]} --> {carry:>5} {sum_:>3}\"\n",
    "\n",
    "display(qc.draw(output='mpl'))\n",
    "\n",
    "print(f'A B --> CARRY SUM{results}')"
   ]
  },
  {
   "cell_type": "markdown",
   "metadata": {},
   "source": [
    "From the output we can observe the $b$ qubit to be in the state which represents the sum of $a$ and $b$ and the $carry$ qubit to be in the state which represents overflow of the sum.\n",
    "\n",
    "The output of $a$ is not used and doesn't need to be measured.\n",
    "\n",
    "## Full adder continued\n",
    "\n",
    "To create a full adder we can use two half adders like in the following block diagram:\n",
    "\n",
    "<img style=\"display: block;margin-left: auto;margin-right: auto;width: 60%\" src=\"images/adder_block.png\">\n",
    "\n",
    "`H` is a half adder and `OR` is a logical OR gate. However the `OR` gate can be switched out for a `XOR` gate because both adders can't overflow at the same time.\n",
    "\n",
    "<h2 id=\"Quantum-full-adder\">Quantum full adder</h2>\n",
    "\n",
    "The quantum full adder can be created using the following quantum circuit:\n",
    "\n",
    "<img style=\"display: block;margin-left: auto;margin-right: auto;width: 60%\" src=\"images/adder_quantum.png\">\n",
    "\n",
    "The $H$ gate is a `half_adder` which is created using the same circuit as seen in the previous code block. The $XOR$ gate is the same $CX$ gate from [exercise 3](#Exercise-3).\n",
    "\n",
    "> The quantum full adder will require an extra qubit for each half adder because there is no two-qubit `AND` gate. Otherwise we could use the first qubit to store the carry and the second to store the sum.\n",
    "\n",
    "### Exercise 4\n",
    "\n",
    "Implement a full adder in the following quantum circuit using two `half_adder`s and a `XOR` gate."
   ]
  },
  {
   "cell_type": "code",
   "execution_count": 29,
   "metadata": {},
   "outputs": [
    {
     "data": {
      "image/png": "[encoded data removed]",
      "text/plain": [
       "<Figure size 254.071x325.08 with 1 Axes>"
      ]
     },
     "metadata": {},
     "output_type": "display_data"
    },
    {
     "name": "stdout",
     "output_type": "stream",
     "text": [
      "Decomposed version of the full adder:\n"
     ]
    },
    {
     "data": {
      "image/png": "[encoded data removed]",
      "text/plain": [
       "<Figure size 314.271x325.08 with 1 Axes>"
      ]
     },
     "metadata": {},
     "output_type": "display_data"
    },
    {
     "name": "stdout",
     "output_type": "stream",
     "text": [
      "A + B + C --> carry sum = 2*carry + sum\n",
      "1 + 1 + 0 -->     1   0 = 2\n"
     ]
    }
   ],
   "source": [
    "a = QuantumRegister(1, 'a')\n",
    "b = QuantumRegister(1, 'b')\n",
    "c = QuantumRegister(1, 'c')\n",
    "d = QuantumRegister(1, 'd')\n",
    "e = QuantumRegister(1, 'e')\n",
    "\n",
    "full_adder = QuantumCircuit(a, b, c, d, e, name='F')\n",
    "\n",
    "# change the initialization state to test your circuit:\n",
    "# '110' means initialize a = 1, b = 1, c = 0\n",
    "state = '110'\n",
    "\n",
    "# TODO implement the quantum full adder here\n",
    "full_adder.append(half_adder, [a, b, d]) # example of adding a half_adder, change qubits if needed\n",
    "full_adder.append(half_adder,[b,c,e])\n",
    "full_adder.cx(d,e)\n",
    "\n",
    "\n",
    "display(full_adder.draw(output='mpl'))\n",
    "\n",
    "print('Decomposed version of the full adder:')\n",
    "display(full_adder.decompose().draw(output='mpl'))\n",
    "\n",
    "# The following lines are used to set up a quantum circuit which uses your full_adder\n",
    "qc = QuantumCircuit(5)\n",
    "qc.initialize(int(state, 2), [2, 1, 0])\n",
    "qc.append(full_adder, range(5))\n",
    "qc = qc.decompose()\n",
    "qc.measure_all()\n",
    "backend = Aer.get_backend('aer_simulator')\n",
    "output = next(iter(backend.run(transpile(qc, backend)).result().get_counts().keys()))\n",
    "\n",
    "a = output[4] # junk\n",
    "b = output[3] # junk\n",
    "c = output[2] # final sum\n",
    "d = output[1] # junk\n",
    "e = output[0] # carry\n",
    "\n",
    "print(\"A + B + C --> carry sum = 2*carry + sum\")\n",
    "print(f\"{state[0]} + {state[1]} + {state[2]} --> {e:>5} {c:>3} = {2 * int(e, 2) + int(c, 2)}\")"
   ]
  },
  {
   "cell_type": "markdown",
   "metadata": {},
   "source": [
    "### Exercise 4 tests\n",
    "\n",
    "Run the following code to see if your circuit works like expected.\n",
    "\n",
    "> **Note:** You will need a working full adder for the next exercise!"
   ]
  },
  {
   "cell_type": "code",
   "execution_count": 30,
   "metadata": {},
   "outputs": [
    {
     "name": "stdout",
     "output_type": "stream",
     "text": [
      "2022-03-21T15:54:20.902722 full_adder tests\n",
      "--------------------------\n",
      "A B C sum --> e c correct?\n",
      "0 0 0   0 --> 0 0  correct\n",
      "0 0 1   1 --> 0 1  correct\n",
      "0 1 0   1 --> 0 1  correct\n",
      "0 1 1   2 --> 1 0  correct\n",
      "1 0 0   1 --> 0 1  correct\n",
      "1 0 1   2 --> 1 0  correct\n",
      "1 1 0   2 --> 1 0  correct\n",
      "1 1 1   3 --> 1 1  correct\n",
      "--------------------------\n",
      "8 out of 8 tests passed.\n",
      "\n",
      "Congratulations, all tests passed!\n"
     ]
    }
   ],
   "source": [
    "from tests import full_adder_tests\n",
    "\n",
    "passed = full_adder_tests(full_adder).run()\n",
    "\n",
    "if passed: print(\"Congratulations, all tests passed!\")\n",
    "else: print(\"The full adder is not working like it should. Try to find what goes wrong using the test results above.\")"
   ]
  },
  {
   "cell_type": "markdown",
   "metadata": {},
   "source": [
    "## Quantum binary adder\n",
    "\n",
    "We finally have all the pieces ready, the `half_adder` and the `full_adder` gates, to start chaining them to create a quantum binary adder of arbitrary size.\n",
    "\n",
    "### Binary adder of 3-bit numbers\n",
    "\n",
    "To hammer home the addition algorithm quantum or classical I created the following block diagram. In the diagram adders are chained together to create an adder for two 3-bit numbers `000..111`:\n",
    "\n",
    "<img style=\"display: block;margin-left: auto;margin-right: auto;width: 60%\" src=\"images/adder3_block.png\">\n",
    "\n",
    "> **Note:** The chained adder is not a six bit adder in the same sense that the half adder adds two bits and full adder three. The chained adder takes into account the position of each bit (which represents the _nth_ power of two) unlike half and full adders. **Note 2**: The output number is 4 bits long if we include the last carry bit as the most significant bit.\n",
    "\n",
    "The input numbers are represented with $a$ and $b$ and the output result sum is $x = a + b$, and the gates $H$ and $F$ stand for half and full adders respectively.\n",
    "\n",
    "### Exercise 5\n",
    "\n",
    "Implement the 3-digit binary adder shown above on a quantum circuit. Use `half_adder` and `full_adder` subcircuits.\n",
    "\n",
    "The number of qubits is already defined correctly. Your task is to append a `half_adder` and two `full_adders`. Then measure the correct output qubits based on the [quantum full adder](#Quantum-full-adder) to the `x` register. `b[0] -> x[0]` is already measured correctly."
   ]
  },
  {
   "cell_type": "code",
   "execution_count": 36,
   "metadata": {},
   "outputs": [
    {
     "data": {
      "image/png": "[encoded data removed]",
      "text/plain": [
       "<Figure size 622.854x746.48 with 1 Axes>"
      ]
     },
     "metadata": {},
     "output_type": "display_data"
    },
    {
     "name": "stdout",
     "output_type": "stream",
     "text": [
      "000 (0) + 001 (1) = 0001 (1)\n"
     ]
    }
   ],
   "source": [
    "a = QuantumRegister(3, 'a')\n",
    "b = QuantumRegister(3, 'b')\n",
    "carry = QuantumRegister(3, 'carry')\n",
    "ancilla = QuantumRegister(2, 'ancilla') # both full adders require one ancilla for the final XOR\n",
    "x = ClassicalRegister(4, 'x')\n",
    "\n",
    "A = '000'\n",
    "B = '001'\n",
    "\n",
    "adder = QuantumCircuit(a, b, carry, ancilla, x)\n",
    "\n",
    "adder.append(half_adder, [a[0], b[0], carry[0]])\n",
    "# TODO implement the rest of the quantum 3 digit binary adder\n",
    "adder.append(full_adder,[carry[0],a[1],b[1], ancilla[0],carry[1]])\n",
    "adder.append(full_adder,[carry[1], a[2], b[2], ancilla[1], carry[2]])\n",
    "\n",
    "adder.barrier()\n",
    "adder.measure(b[0], x[0]) # this measures the first sum from the half adder correctly\n",
    "# TODO measure the rest of the outputs from top to bottom\n",
    "adder.measure(b[1],x[1])\n",
    "adder.measure(b[2],x[2])\n",
    "adder.measure(carry[2],x[3])\n",
    "\n",
    "\n",
    "display(adder.draw(output='mpl'))\n",
    "\n",
    "# The following lines set up a temporary circuit for the adder\n",
    "qc = QuantumCircuit(11, 4)\n",
    "qc.initialize(int(A, 2), range(0, 3))\n",
    "qc.initialize(int(B, 2), range(3, 6))\n",
    "qc.append(adder, range(11), range(4))\n",
    "qc = qc.decompose()\n",
    "backend = Aer.get_backend('aer_simulator')\n",
    "output = next(iter(backend.run(transpile(qc, backend)).result().get_counts().keys()))\n",
    "print(f\"{A} ({int(A, 2)}) + {B} ({int(B, 2)}) = {output} ({int(output, 2)})\")"
   ]
  },
  {
   "cell_type": "markdown",
   "metadata": {},
   "source": [
    "### Exercise 5 tests\n",
    "\n",
    "Run the following code to see if your circuit works like expected."
   ]
  },
  {
   "cell_type": "code",
   "execution_count": 37,
   "metadata": {},
   "outputs": [
    {
     "name": "stdout",
     "output_type": "stream",
     "text": [
      "2022-03-21T16:13:43.219141 adder (3bit) tests\n",
      "--------------------------\n",
      "A B (A + B) -->  x correct?\n",
      "0 0       0 -->  0  correct\n",
      "0 1       1 -->  1  correct\n",
      "0 2       2 -->  2  correct\n",
      "0 3       3 -->  3  correct\n",
      "0 4       4 -->  4  correct\n",
      "0 5       5 -->  5  correct\n",
      "0 6       6 -->  6  correct\n",
      "0 7       7 -->  7  correct\n",
      "1 0       1 -->  1  correct\n",
      "1 1       2 -->  2  correct\n",
      "1 2       3 -->  3  correct\n",
      "1 3       4 -->  4  correct\n",
      "1 4       5 -->  5  correct\n",
      "1 5       6 -->  6  correct\n",
      "1 6       7 -->  7  correct\n",
      "1 7       8 -->  8  correct\n",
      "2 0       2 -->  2  correct\n",
      "2 1       3 -->  3  correct\n",
      "2 2       4 -->  4  correct\n",
      "2 3       5 -->  5  correct\n",
      "2 4       6 -->  6  correct\n",
      "2 5       7 -->  7  correct\n",
      "2 6       8 -->  8  correct\n",
      "2 7       9 -->  9  correct\n",
      "3 0       3 -->  3  correct\n",
      "3 1       4 -->  4  correct\n",
      "3 2       5 -->  5  correct\n",
      "3 3       6 -->  6  correct\n",
      "3 4       7 -->  7  correct\n",
      "3 5       8 -->  8  correct\n",
      "3 6       9 -->  9  correct\n",
      "3 7      10 --> 10  correct\n",
      "4 0       4 -->  4  correct\n",
      "4 1       5 -->  5  correct\n",
      "4 2       6 -->  6  correct\n",
      "4 3       7 -->  7  correct\n",
      "4 4       8 -->  8  correct\n",
      "4 5       9 -->  9  correct\n",
      "4 6      10 --> 10  correct\n",
      "4 7      11 --> 11  correct\n",
      "5 0       5 -->  5  correct\n",
      "5 1       6 -->  6  correct\n",
      "5 2       7 -->  7  correct\n",
      "5 3       8 -->  8  correct\n",
      "5 4       9 -->  9  correct\n",
      "5 5      10 --> 10  correct\n",
      "5 6      11 --> 11  correct\n",
      "5 7      12 --> 12  correct\n",
      "6 0       6 -->  6  correct\n",
      "6 1       7 -->  7  correct\n",
      "6 2       8 -->  8  correct\n",
      "6 3       9 -->  9  correct\n",
      "6 4      10 --> 10  correct\n",
      "6 5      11 --> 11  correct\n",
      "6 6      12 --> 12  correct\n",
      "6 7      13 --> 13  correct\n",
      "7 0       7 -->  7  correct\n",
      "7 1       8 -->  8  correct\n",
      "7 2       9 -->  9  correct\n",
      "7 3      10 --> 10  correct\n",
      "7 4      11 --> 11  correct\n",
      "7 5      12 --> 12  correct\n",
      "7 6      13 --> 13  correct\n",
      "7 7      14 --> 14  correct\n",
      "--------------------------\n",
      "64 out of 64 tests passed.\n",
      "\n",
      "Congratulations, all tests passed!\n"
     ]
    }
   ],
   "source": [
    "from tests import adder3_tests\n",
    "\n",
    "passed = adder3_tests(adder).run()\n",
    "\n",
    "if passed: print(\"Congratulations, all tests passed!\")\n",
    "else: print(\"The 3 bit adder is not working like it should. Try to find what goes wrong using the test results above.\")"
   ]
  },
  {
   "cell_type": "markdown",
   "metadata": {},
   "source": [
    "## Optimization\n",
    "\n",
    "We can optimize the circuit and reduce the number of qubits with _uncomputation_. This way we can reuse ancillas between gates.\n",
    "\n",
    "### Uncomputation\n",
    "\n",
    "[Uncomputation](https://en.wikipedia.org/wiki/Uncomputation) is used to revert ancillary qubits back to their original state, in our case $|0\\rangle$. After each full adder we can restore the ancilla in order to use it in the next full adder. This way we only need one ancilla no matter how many bits are in our numbers.\n",
    "\n",
    "> The non-optimized version used $N - 1$ ancillas.\n",
    "\n",
    "### Full adder uncomputation\n",
    "\n",
    "The quantum full adder has the following circuit:\n",
    "\n",
    "<img style=\"display: block;margin-left: auto;margin-right: auto;width: 30%\" src=\"images/full_adder_quantum.png\">\n",
    "\n",
    "The three first tracks represent the inputs and the last track represents the overflow of the output. The second to last track is for the ancilla we are interested in.\n",
    "\n",
    "> This is the quantum gate diagram of the full adder as a reminder:\n",
    "> <img style=\"display: block;margin-left: auto;margin-right: auto;width: 30%\" src=\"images/adder_quantum.png\">\n",
    "\n",
    "Uncomputation happens by putting inverses of gates in the inverse order. The $CCX$ and $CX$ gates are Hermitian so they are their own inverse gate.\n",
    "\n",
    "Our task is to flip the $|d\\rangle$ qubit back to $|0\\rangle$. To do that we need can add a Toffoli between $a$ $b$ and $d$:\n",
    "\n",
    "<img style=\"display: block;margin-left: auto;margin-right: auto;width: 60%\" src=\"images/uncomputation.png\">\n",
    "\n",
    "The problem is that for the added Toffoli to do the inverse of the first one, it must operate under the same conditions. That is not the case because there is a $CX$ flipping $b$ if $a = 1$.\n",
    "\n",
    "> It's worth to point out that the other $CCX$ and $CX$ gates will cause entanglement issues if the qubits are not in pure basis states. However we assume they are and need not to worry about them entanglements.\n",
    "\n",
    "### Exercise 6\n",
    "\n",
    "Uncompute $|d\\rangle$ back to state $|0\\rangle$ using a $CX$ and a $CCX$ gate:"
   ]
  },
  {
   "cell_type": "code",
   "execution_count": 44,
   "metadata": {},
   "outputs": [
    {
     "data": {
      "image/png": "[encoded data removed]",
      "text/plain": [
       "<Figure size 434.671x325.08 with 1 Axes>"
      ]
     },
     "metadata": {},
     "output_type": "display_data"
    },
    {
     "name": "stdout",
     "output_type": "stream",
     "text": [
      "A B C 0 --> a b c d\n",
      "1 1 0 0 --> 1 1 0 0\n"
     ]
    }
   ],
   "source": [
    "a = QuantumRegister(1, 'a')\n",
    "b = QuantumRegister(1, 'b')\n",
    "c = QuantumRegister(1, 'c')\n",
    "d = QuantumRegister(1, 'd')\n",
    "e = QuantumRegister(1, 'e')\n",
    "\n",
    "uncomputeD = QuantumCircuit(a, b, c, d, e, name='F')\n",
    "\n",
    "# change the initialization state to test your circuit:\n",
    "# '110' means initialize a = 1, b = 1, c = 0\n",
    "state = '110'\n",
    "\n",
    "uncomputeD.append(full_adder, [a, b, c, d, e])\n",
    "uncomputeD = uncomputeD.decompose().decompose()\n",
    "\n",
    "# TODO uncompute d\n",
    "uncomputeD.cx(a,b)\n",
    "uncomputeD.ccx(a,b,d)\n",
    "\n",
    "\n",
    "\n",
    "display(uncomputeD.draw(output='mpl'))\n",
    "\n",
    "# The following lines set up a temporary circuit for testing uncomputeD\n",
    "qc = QuantumCircuit(5)\n",
    "qc.initialize(int(state, 2), [2, 1, 0])\n",
    "qc.append(uncomputeD, range(5))\n",
    "qc = qc.decompose()\n",
    "qc.measure_all()\n",
    "backend = Aer.get_backend('aer_simulator')\n",
    "output = next(iter(backend.run(transpile(qc, backend)).result().get_counts().keys()))\n",
    "\n",
    "a = output[4] # junk\n",
    "b = output[3] # junk\n",
    "c = output[2] # final sum\n",
    "d = output[1] # should be 0\n",
    "e = output[0] # carry\n",
    "\n",
    "print(\"A B C 0 --> a b c d\")\n",
    "print(f\"{state[0]} {state[1]} {state[2]} 0 --> {a} {b} {c} {d}\")"
   ]
  },
  {
   "cell_type": "markdown",
   "metadata": {},
   "source": [
    "### Exercise 6 tests\n",
    "\n",
    "Run the following code to test if your circuit works as expected and does not change the $|d\\rangle$ qubit."
   ]
  },
  {
   "cell_type": "code",
   "execution_count": 45,
   "metadata": {},
   "outputs": [
    {
     "name": "stdout",
     "output_type": "stream",
     "text": [
      "2022-03-21T16:23:37.085102 uncomputeD tests\n",
      "--------------------------\n",
      "A B C --> d correct?\n",
      "0 0 0 --> 0  correct\n",
      "0 0 1 --> 0  correct\n",
      "0 1 0 --> 0  correct\n",
      "0 1 1 --> 0  correct\n",
      "1 0 0 --> 0  correct\n",
      "1 0 1 --> 0  correct\n",
      "1 1 0 --> 0  correct\n",
      "1 1 1 --> 0  correct\n",
      "--------------------------\n",
      "8 out of 8 tests passed.\n",
      "\n",
      "Congratulations, all tests passed!\n"
     ]
    }
   ],
   "source": [
    "from tests import uncomputeD_tests\n",
    "\n",
    "passed = uncomputeD_tests(uncomputeD).run()\n",
    "\n",
    "if passed: print(\"Congratulations, all tests passed!\")\n",
    "else: print(\"The 3 bit adder is not working like it should. Try to find what goes wrong using the test results above.\")"
   ]
  },
  {
   "cell_type": "markdown",
   "metadata": {},
   "source": [
    "## The general quantum adder\n",
    "\n",
    "The following code block contains a generalized algorithm for creating any $N$ bit quantum adder.\n",
    "\n",
    "### Exercise 7\n",
    "\n",
    "Run the following program. Try to find maximum $N$ before your system memory runs out."
   ]
  },
  {
   "cell_type": "code",
   "execution_count": 47,
   "metadata": {},
   "outputs": [
    {
     "name": "stdout",
     "output_type": "stream",
     "text": [
      "Enter a decimal number: A = 15\n",
      "Enter another decimal number: B = 23\n",
      "Quantum circuit (for N = 5) uses 16 qubits\n"
     ]
    },
    {
     "data": {
      "image/png": "[encoded data removed]",
      "text/plain": [
       "<Figure size 1813.73x1047.48 with 1 Axes>"
      ]
     },
     "metadata": {},
     "output_type": "display_data"
    },
    {
     "name": "stdout",
     "output_type": "stream",
     "text": [
      "15 + 23 = 100110 (38)\n"
     ]
    }
   ],
   "source": [
    "A = int(input('Enter a decimal number: A = '))\n",
    "B = int(input('Enter another decimal number: B = '))\n",
    "\n",
    "N = int(np.log2(max(A, B))) + 1\n",
    "\n",
    "a = QuantumRegister(N, 'a')\n",
    "b = QuantumRegister(N, 'b')\n",
    "carry = QuantumRegister(N, 'carry')\n",
    "ancilla = QuantumRegister(1, 'ancilla')\n",
    "x = ClassicalRegister(N + 1, 'x')\n",
    "\n",
    "qc = QuantumCircuit(a, b, carry, ancilla, x)\n",
    "print(f\"Quantum circuit (for N = {N}) uses {len(qc.qubits)} qubits\")\n",
    "\n",
    "qc.initialize(A, range(0, N))\n",
    "qc.initialize(B, range(N, 2 * N))\n",
    "\n",
    "# Half adder for adding the least significant bits as there is no third carry bit from previous adder\n",
    "qc.append(half_adder, [a[0], b[0], carry[0]])\n",
    "\n",
    "for n in range(1, N):\n",
    "    qc.append(uncomputeD, [a[n], b[n], carry[n - 1], ancilla, carry[n]])\n",
    "\n",
    "qc = qc.decompose()\n",
    "display(qc.draw(output='mpl', fold=-1))\n",
    "\n",
    "qc.barrier()\n",
    "\n",
    "# Measures sum from the half adder\n",
    "qc.measure(b[0], x[0])\n",
    "\n",
    "# Loop until N + 1 as the last carry bit is the most significant bit in x\n",
    "for n in range(1, N + 1):\n",
    "    qc.measure(carry[n - 1], x[n])\n",
    "\n",
    "qc = qc.decompose()\n",
    "backend = Aer.get_backend('aer_simulator')\n",
    "output = next(iter(backend.run(transpile(qc, backend)).result().get_counts().keys()))\n",
    "print(f\"{A} + {B} = {output} ({int(output, 2)})\")"
   ]
  },
  {
   "cell_type": "markdown",
   "metadata": {},
   "source": [
    "### Exercise 7 answer\n",
    "\n",
    "System memory runs out at $N = TODO$"
   ]
  }
 ],
 "metadata": {
  "kernelspec": {
   "display_name": "Python 3 (ipykernel)",
   "language": "python",
   "name": "python3"
  },
  "language_info": {
   "codemirror_mode": {
    "name": "ipython",
    "version": 3
   },
   "file_extension": ".py",
   "mimetype": "text/x-python",
   "name": "python",
   "nbconvert_exporter": "python",
   "pygments_lexer": "ipython3",
   "version": "3.9.7"
  }
 },
 "nbformat": 4,
 "nbformat_minor": 4
}
