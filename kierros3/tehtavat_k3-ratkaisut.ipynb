{
 "cells": [
  {
   "cell_type": "markdown",
   "id": "c2c08208",
   "metadata": {},
   "source": [
    "## Kvanttilaskenta 2022 laskuharjoitukset kierros 3\n",
    "\n",
    "$$\\newcommand{\\ket}[1]{\\left|{#1}\\right\\rangle}$$\n",
    "$$\\newcommand{\\bra}[1]{\\left\\langle{#1}\\right|}$$\n",
    "\n",
    "\n",
    "\n",
    "Kierroksen kolme tehtävissä eräänä tavoitteena on tutkia miten erilaisten kvanttiporttien operaatiot vaikuttavat kubitin kvanttitilaa esittävään tilavektoriin Blochin pallolla. Sen takia on tärkeää tutkia tehtävien ratkaisuja myös <a href=\"https://bloch.ollpu.fi/\" target=\"_blank\">Blochin palloa kuvaavan simulaation avulla.</a>. "
   ]
  },
  {
   "cell_type": "markdown",
   "id": "1d9aae29",
   "metadata": {},
   "source": [
    "## Johdanto tehtävävään 1, eli painotetun kolikon heitto ja z-akselin ympäri tapahtuva kierto\n",
    "\n",
    "Tarkastellaan yhden kubitin kvanttipiiriä, jonka avulla halutaan toteuttaa kruuna (kubitin tila |1>) klaava ( kubitin tila |0>) kolikonheitto siten, että lopputuloksen |1> todennäköisyys on $\\frac{2}{3}$ ja tilan |0> todennäköisyys $\\frac{1}{3}$. Olkoon kubitin alkutila $1\\cdot|0>+ 0\\cdot|1>$.\n",
    "\n",
    "Kubitin tilan mittaustulosta eli arvojen |0>  tai  |1> esiintymistodennäköisyyksiä voidaan muuttaa ja säätää halutuksi $R_y$-kvanttiportilla, joka vastaa kubitin kiertoa Blochin pallolla y-akselin ympäri. Kun alkutilassa |0> olevaa kubittia kierretään $R_y$-portilla, muuttuvat samalla kubitin tilavektorin kertoimet eli todennäköisyydet. Esimerkiksi, jos kubitin tila $R_y$-kierron jälkeen on $\\frac{\\sqrt{6}}{3} |0>+ \\frac{1}{\\sqrt{3}}|1>$, niin\n",
    "\n",
    "\n",
    "\n",
    "tarkoittaa tämä, että kubitin tilavektorin kärki on Blochin pallolla ”lähempänä” tilaa |0> ja lopputilojen todennäköisyydet\n",
    "\n",
    "$P(0)=(\\frac{\\sqrt{6}}{3})^2 = \\frac{2}{3}$ ja $P(1)=(\\frac{1}{\\sqrt{3}})^2 = \\frac{1}{3}$. Mohdollisten tilojen  todennäköisyyksien summa säilyy: $P(0)+P(1)=\\frac{2}{3} +\\frac{1}{3} = 1 $.\n",
    "\n",
    "\n",
    "\n",
    "\n",
    "Ry-porttin vaikutus pystyvektorin tilaan voidaan kuvata kiertomatriisilla:\n",
    "![Ry_matriisi](images/Ry_matriisi.png)\n",
    "\n",
    "missä kulma $\\theta$ ilmaisee kuinka suuri kierto on tehty y-akselin ympäri. Operoidaan Ry-kiertomatriisilla kubitin alkutilaan |0>:\n",
    "![Ry_tulo](images/Ry_tulo.png)\n",
    "\n",
    "Kierron jälkeen kubitin tila voidaan esittää siis muodossa\n",
    "![state3](images/state3.png)\n",
    "\n",
    "Nyt voidaan ratkaista kiertokulma $\\theta$ kubitin tilojen |0> ja |1>  todennäköisyyksistä\n",
    "![Ry_tn](images/Ry_tn.png)\n",
    "\n",
    "eli \n",
    "\n",
    "![Ry_tn3](images/Ry_tn3.png)\n",
    "\n",
    "Ry-portilla toteutetaan siis 1.91 radiaanin eli  109 asteen kierto y-akselin ympäri. Asteiden ja radiaanien välinen yhteys $180°\\ =\\ \\pi\\ rad$ eli $1\\ rad\\ =\\ \\frac{180°}{\\pi}$.\n",
    "\n",
    "Alla on esimerkin yhden kubitin piirin toteutus pyhtonilla. Koodissa luodaan yhden kubitin kvanttipiiri, kierrettään tilavektoria ja simuloidaan piirin toiminta. Lopuksi piirretään mittaustulosten todennäköisyyjakauma. $R_y$ portin toteutus qiskitissä on metodi `circuit.ry(theta)`."
   ]
  },
  {
   "cell_type": "code",
   "execution_count": 2,
   "id": "a4683825",
   "metadata": {},
   "outputs": [],
   "source": [
    "from qiskit import *\n",
    "import math\n",
    "\n",
    "# Luodaan kvanttipiiri muuttujaan circ, jossa on yksi kubitti (diagrammissa q).\n",
    "quantum_register = QuantumRegister(1)\n",
    "classical_register = ClassicalRegister(1)\n",
    "circuit = QuantumCircuit(quantum_register, classical_register)  # kubitin alkutila on |0>"
   ]
  },
  {
   "cell_type": "code",
   "execution_count": 3,
   "id": "5abecba5",
   "metadata": {},
   "outputs": [
    {
     "data": {
      "text/plain": [
       "<qiskit.circuit.instructionset.InstructionSet at 0x7f7a89415b00>"
      ]
     },
     "execution_count": 3,
     "metadata": {},
     "output_type": "execute_result"
    }
   ],
   "source": [
    "circuit.ry(2 * math.asin(math.sqrt(2/3)), 0)"
   ]
  },
  {
   "cell_type": "code",
   "execution_count": 4,
   "id": "8e1fb55e",
   "metadata": {},
   "outputs": [
    {
     "data": {
      "image/png": "[encoded data removed]",
      "text/plain": [
       "<Figure size 504x360 with 1 Axes>"
      ]
     },
     "execution_count": 4,
     "metadata": {},
     "output_type": "execute_result"
    }
   ],
   "source": [
    "circuit.measure(quantum_register, classical_register)\n",
    "simulator = Aer.get_backend('qasm_simulator')\n",
    "execute(circuit, backend=simulator)\n",
    "result = execute(circuit, backend=simulator).result()\n",
    "from qiskit.tools.visualization import plot_histogram\n",
    "plot_histogram(result.get_counts(circuit))"
   ]
  },
  {
   "cell_type": "markdown",
   "id": "eaf92fdb",
   "metadata": {},
   "source": [
    "## Tehtävä 1\n",
    "\n",
    "a) Mihin kulmaan kubitin tilavektori on kierrettävä $R_y$-portilla, jos lopputilan |1> todennäköisyydeksi halutaan $\\frac{3}{4}$?\n",
    "\n",
    "b) Simuloi a-kohdan piirin toiminta ja piirrä todennäköisyysjakauma pylväsdiagrammina. Voit käyttää yllä olevaa mallikoodia apunasi. Muuta kierron arvoa."
   ]
  },
  {
   "cell_type": "code",
   "execution_count": 8,
   "id": "c0064a17",
   "metadata": {},
   "outputs": [
    {
     "data": {
      "text/plain": [
       "<qiskit.circuit.instructionset.InstructionSet at 0x7f7a89410dc0>"
      ]
     },
     "execution_count": 8,
     "metadata": {},
     "output_type": "execute_result"
    }
   ],
   "source": [
    "# Tehtävä 1, ohjelmoi tähän\n",
    "\n",
    "# Luodaan kvanttipiiri muuttujaan circ, jossa on yksi kubitti (diagrammissa q).\n",
    "quantum_register = QuantumRegister(1)\n",
    "classical_register = ClassicalRegister(1)\n",
    "circuit2 = QuantumCircuit(quantum_register, classical_register)  # kubitin alkutila on |0>\n",
    "\n",
    "circuit2.ry(2 * math.asin(math.sqrt(3/4)), 0)"
   ]
  },
  {
   "cell_type": "code",
   "execution_count": 10,
   "id": "5b7c8d53",
   "metadata": {},
   "outputs": [
    {
     "data": {
      "image/png": "[encoded data removed]",
      "text/plain": [
       "<Figure size 504x360 with 1 Axes>"
      ]
     },
     "execution_count": 10,
     "metadata": {},
     "output_type": "execute_result"
    }
   ],
   "source": [
    "circuit2.measure(quantum_register, classical_register)\n",
    "simulator = Aer.get_backend('qasm_simulator')\n",
    "execute(circuit2, backend=simulator)\n",
    "result = execute(circuit2, backend=simulator).result()\n",
    "from qiskit.tools.visualization import plot_histogram\n",
    "plot_histogram(result.get_counts(circuit2))"
   ]
  },
  {
   "cell_type": "markdown",
   "id": "b2786d45",
   "metadata": {},
   "source": [
    "## Kertausta kierrokselta 2: Lomittuminen (entanglement) ja CNOT-portti\n",
    "\n",
    "Tehtävät 1 - 3 käsittelivät yhden kubitin systeemiä. Seuraavassa kahdessa tehtävässä tarkastelemme controlled NOT -porttia ($\\mathit{CNOT}$), joka on kahden kubitin välinen operaatio. Kahden kubitin kvanttipiirissä systeemin tila esitetään seuraavilla kantavektoreilla:\n",
    "\n",
    "$$\n",
    "\\ket{00},\\ \\ket{01},\\ \\ket{10},\\ \\ket{11}, \n",
    "$$\n",
    "\n",
    "missä \n",
    "\n",
    "$$\n",
    "\\ket{00}=\\pmatrix{1 \\\\ 0 \\\\ 0 \\\\0},\\ \\ket{01}=\\pmatrix{0 \\\\ 1 \\\\ 0 \\\\0},\\ \n",
    "\\ket{10}=\\pmatrix{0 \\\\ 0 \\\\ 1 \\\\0},\\ \\ket{11}=\\pmatrix{0 \\\\ 0 \\\\ 0 \\\\1}.\n",
    "$$\n",
    "\n",
    "$\\mathit{CNOT}$-portin operoidessa ensimmäinen qubitti on ns. ohjaava kubitti (control qubi1t), ja jälkimmäinen on kohdekubitti (target qubit). $\\mathit{CNOT}$ vaikuttaa koko systeemin tilaan seuraavasti:\n",
    "\n",
    "$$\n",
    "\\ket{00} \\rightarrow  \\ket{00}   \\\\\n",
    "\\ket{01} \\rightarrow  \\ket{01}   \\\\\n",
    "\\ket{10} \\rightarrow  \\ket{11}   \\\\\n",
    "\\ket{11} \\rightarrow  \\ket{10}   \\\\\n",
    "$$\n",
    "\n",
    "Tulos tarkoittaa, että jos ensimmäinen, ns. ohjaava kubitti on $0$, niin kohdekubitin tila ei muutu. Jos ohjaavakubitti $1$, niin kohdekubitin tila muuttuu. \n",
    "\n",
    "$\\mathit{CNOT}$-portin matriisiesitys on seuraava:\n",
    "\n",
    "$$\n",
    "\\mathit{CNOT} = \\pmatrix {1 & 0 & 0 & 0 \\\\ 0 & 1 & 0 & 0\\\\ 0 & 0 & 0 & 1 \\\\ 0 & 0 & 1 & 0} \n",
    "$$\n",
    "\n",
    "Huomaa, että vaikka matriisia merkitään monella kirjaimella, se ei ole monen matriisin tulo.\n",
    "\n",
    "Piirrosmerkki, jossa ylempänä esitetty kubitti on ohjaava, ja alempi toimii kohteena:\n",
    "\n",
    "![cnot](https://ollpu.fi/kvanttilaskenta-static/cnot.png)\n",
    "\n"
   ]
  },
  {
   "cell_type": "markdown",
   "id": "fd6a5bb0",
   "metadata": {},
   "source": [
    "## Conditional-phase gate eli ehdollinen cz-vaiheporttti kahden kubitin systeemissä\n",
    "\n",
    "Toiminta: cz-portti flippaa kohdekubitin (target) vain jos ohjaavakubitti (control) on tilassa $\\ket 1$. CZ-portti on symmetrinen, eli kumpitahansa qubiteista voi toimia kontrollikubittina. Vaiheen voi ajatella kubitin tilavektorin asentona Blochin pallolla.\n",
    "\n",
    "\n",
    "$\\mathit{CZ}$-portin matriisiesitys on seuraava:\n",
    "\n",
    "$$\n",
    "\\mathit{CZ} = \\pmatrix {1 & 0 & 0 & 0 \\\\ 0 & 1 & 0 & 0\\\\ 0 & 0 & 1 & 0 \\\\ 0 & 0 & 0 & -1} \n",
    "$$\n",
    "\n",
    "\n",
    "Piirrosmerkki,josta näkyy symmetrisyys.\n",
    "\n",
    "![cz-piirrosmerkki](images/cz-piirrosmerkki.png)\n",
    "\n",
    "Alla on toteuttettu CZ-portti käyttmällä H-porttia ja CNOT-porttia. Ohjelma tulostaa piirin sekä CZ-portin matriisiesityksen."
   ]
  },
  {
   "cell_type": "code",
   "execution_count": null,
   "id": "718e5cf7",
   "metadata": {},
   "outputs": [],
   "source": []
  },
  {
   "cell_type": "code",
   "execution_count": 16,
   "id": "f0920c0f",
   "metadata": {},
   "outputs": [
    {
     "data": {
      "image/png": "[encoded data removed]",
      "text/plain": [
       "<Figure size 267.052x144.48 with 1 Axes>"
      ]
     },
     "metadata": {},
     "output_type": "display_data"
    },
    {
     "data": {
      "text/latex": [
       "$$\n",
       "\n",
       "\\begin{bmatrix}\n",
       "1 & 0 & 0 & 0  \\\\\n",
       " 0 & 1 & 0 & 0  \\\\\n",
       " 0 & 0 & 1 & 0  \\\\\n",
       " 0 & 0 & 0 & -1  \\\\\n",
       " \\end{bmatrix}\n",
       "$$"
      ],
      "text/plain": [
       "<IPython.core.display.Latex object>"
      ]
     },
     "metadata": {},
     "output_type": "display_data"
    }
   ],
   "source": [
    "# Johdanto tehtävään 2\n",
    "\n",
    "from qiskit import *\n",
    "from qiskit.visualization import *\n",
    "backend = Aer.get_backend('unitary_simulator')\n",
    "\n",
    "qc = QuantumCircuit(2)\n",
    "\n",
    "qc.h(1)\n",
    "qc.cx(0, 1)\n",
    "qc.h(1)\n",
    "\n",
    "matriisi = backend.run(qc).result().get_unitary(qc, decimals=3)\n",
    "display(qc.draw(output='mpl'), array_to_latex(matriisi))"
   ]
  },
  {
   "cell_type": "markdown",
   "id": "56905579",
   "metadata": {},
   "source": [
    "## Tehtävä 2\n",
    "\n",
    "Ohjelmoi yllä olevan esimerkin avulla kuvassa esitetty kvanttipiiri ja sen matriisiesitys.\n",
    "\n",
    "![cz.PNG](images/cz.PNG)"
   ]
  },
  {
   "cell_type": "code",
   "execution_count": 17,
   "id": "1b8ab5b9",
   "metadata": {},
   "outputs": [
    {
     "data": {
      "image/png": "[encoded data removed]",
      "text/plain": [
       "<Figure size 267.052x144.48 with 1 Axes>"
      ]
     },
     "metadata": {},
     "output_type": "display_data"
    },
    {
     "data": {
      "text/latex": [
       "$$\n",
       "\n",
       "\\begin{bmatrix}\n",
       "1 & 0 & 0 & 0  \\\\\n",
       " 0 & 1 & 0 & 0  \\\\\n",
       " 0 & 0 & 1 & 0  \\\\\n",
       " 0 & 0 & 0 & -1  \\\\\n",
       " \\end{bmatrix}\n",
       "$$"
      ],
      "text/plain": [
       "<IPython.core.display.Latex object>"
      ]
     },
     "metadata": {},
     "output_type": "display_data"
    }
   ],
   "source": [
    "# Kirjoita ohjelma tähän\n",
    "\n",
    "from qiskit import *\n",
    "from qiskit.visualization import *\n",
    "backend = Aer.get_backend('unitary_simulator')\n",
    "\n",
    "qc = QuantumCircuit(2)\n",
    "# tee tähän lisäys\n",
    "\n",
    "qc.h(0)\n",
    "qc.cx(1, 0)\n",
    "qc.h(0)\n",
    "\n",
    "matriisi = backend.run(qc).result().get_unitary(qc, decimals=3)\n",
    "display(qc.draw(output='mpl'), array_to_latex(matriisi))"
   ]
  },
  {
   "cell_type": "code",
   "execution_count": null,
   "id": "dc8ec555",
   "metadata": {},
   "outputs": [],
   "source": [
    "zero = matrix([1, 0]).H\n",
    "one = matrix([0, 1]).H\n",
    "\n",
    "plus = 1/sqrt(2)*matrix([1, 1]).H\n",
    "minus = 1/sqrt(2)*matrix([1, -1]).H\n",
    "\n",
    "tila = kron(one, one)\n",
    "display(array_to_latex(tila))\n",
    "display(array_to_latex(U*tila))\n",
    "\n",
    "display(array_to_latex(kron(one, zero)))"
   ]
  },
  {
   "cell_type": "markdown",
   "id": "33714581",
   "metadata": {},
   "source": [
    "## Tehtävä 3\n",
    "Tehtävässä kaksi tutustutaan yleiseen kvanttipiirin avulla toteutettuun kvanttitilan teleportaatioon.\n",
    "\n",
    "### Quantum teleportation eli kvanttiteleportaatio ja kubittien lomittuminen\n",
    "Kvanttiteleportaation avulla voidaan siirtää kubitin tila fyysisesti kauas tietyillä esivalmisteluilla. Kvanttiteleportaatio perustuu kubittien lomittumiseen, eli kubittien väliseen kytkentään kvanttisysteemissä.\n",
    "\n",
    "![teleportation](images/teleportation.png)\n",
    "\n",
    "Kuvan kvanttipiirissä siirretään kubitin 0 tila kubitiin 2, paikasta A paikkaan B. Alla aiheesta tutoriaalivideo.\n",
    "\n",
    "Ensin luodaan kubitin 1 ja 2 välille ns. Bellin pari eli lomitus Hadamard- ja CNOT-porttien avulla. Tämä pari luodaan esimerkiksi paikassa A, jonka jälkeen kubitti 2 siiretään fysisesti paikkaan B. \n",
    "\n",
    "Kun kubitin 0 tila halutaan siirtää kubitiin 2, niin paikassa A suoritetaan sarja operaatiota kubiteille 0 ja 1.  \n",
    "\n",
    "Kubittien 0 ja 1 tilat mitatataan ja klassiset mittaustulokset lähetetään paikkaan B.\n",
    "\n",
    "Mittaustuloksista riippuen paikassa B tehdään eri sarja operaatioita kubitille 2. Lopputuloksena kubitin 2 tila on sama kuin kubitin 0 alkuperäinen tila.\n",
    "\n",
    "\n",
    "a) Katso tutoriaalivideo ja rakenna 3:n kubitin systeemi. Simuloi piirin toiminta.\n",
    "\n",
    "Tutoriaalivideo:\n",
    "<a href=\"https://youtu.be/mMwovHK2NrE\" target=\"_blank\">Kvanttiteleportaation qiskit-tutoriaali</a>\n",
    "\n",
    "Videossa lähetetään ensin tila $\\ket 1$ kubitista 0 kubittiin 2. Tämä tila saadaan aikaan yhdellä X-portilla alussa.\n",
    "\n",
    "Lopun mittaustuloksissa nähdään ainoastaan tiloja, joissa kubitti 2 (binäärimerkkijonon ensimmäinen merkki) on 1, eli tila näyttäisi siirtyneen oikein. Muut kaksi bittiä ovat sattumanvaraisia.\n",
    "\n",
    "b) Luo piiri uudestaan erilaisella alkutilalla, ja tutki tuloksia.\n",
    "Jos muokkaat alkuperäistä koodia, aja jokainen solu uudestaan järjestyksessä, jotta saat uuden piirin.\n",
    "\n",
    "Kirjaa saamasi tulokset muistiin esimerkiksi alle.\n",
    "\n",
    "**OHJE:**\n",
    "Jos sinulla on vaikeuksia koodata tutoriaalivideon avulla, niin voit käyttää apuna alla olevissa koodisolouissa olevaa valmista koodia."
   ]
  },
  {
   "cell_type": "code",
   "execution_count": 26,
   "id": "9743d10c",
   "metadata": {},
   "outputs": [
    {
     "data": {
      "image/png": "[encoded data removed]",
      "text/plain": [
       "<Figure size 116.697x264.88 with 1 Axes>"
      ]
     },
     "execution_count": 26,
     "metadata": {},
     "output_type": "execute_result"
    }
   ],
   "source": [
    "from qiskit import *\n",
    "# QUBIT ORDERING\n",
    "# q0 = State |psi> that we want to teleport\n",
    "# q1 = Alice's half of the Bell pair\n",
    "# q2 = Bob's half of the Bell pair, the destination of the teleportation\n",
    "\n",
    "circuit = QuantumCircuit(3,3)\n",
    "%matplotlib inline\n",
    "circuit.draw(output='mpl')"
   ]
  },
  {
   "cell_type": "code",
   "execution_count": 27,
   "id": "40918d64",
   "metadata": {},
   "outputs": [
    {
     "data": {
      "image/png": "[encoded data removed]",
      "text/plain": [
       "<Figure size 146.797x264.88 with 1 Axes>"
      ]
     },
     "execution_count": 27,
     "metadata": {},
     "output_type": "execute_result"
    }
   ],
   "source": [
    "# Step 0: Create the state to be teleported in qubit 0\n",
    "#circuit.x(0) # qubit 0 is now in state |1>, and this is the state that we want to teleport\n",
    "circuit.barrier()\n",
    "circuit.draw(output='mpl')"
   ]
  },
  {
   "cell_type": "code",
   "execution_count": 28,
   "id": "c1a2cc02",
   "metadata": {},
   "outputs": [
    {
     "data": {
      "image/png": "[encoded data removed]",
      "text/plain": [
       "<Figure size 267.197x264.88 with 1 Axes>"
      ]
     },
     "execution_count": 28,
     "metadata": {},
     "output_type": "execute_result"
    }
   ],
   "source": [
    "# Step 1: create an entangled Bell pair between Alice and Bob (qubits 1 and 2)\n",
    "circuit.h(1)\n",
    "circuit.cx(1,2)\n",
    "circuit.draw(output='mpl')"
   ]
  },
  {
   "cell_type": "code",
   "execution_count": 29,
   "id": "9242fd1b",
   "metadata": {},
   "outputs": [
    {
     "data": {
      "image/png": "[encoded data removed]",
      "text/plain": [
       "<Figure size 387.597x264.88 with 1 Axes>"
      ]
     },
     "execution_count": 29,
     "metadata": {},
     "output_type": "execute_result"
    }
   ],
   "source": [
    "circuit.cx(0,1)\n",
    "circuit.h(0)\n",
    "circuit.draw(output='mpl')"
   ]
  },
  {
   "cell_type": "code",
   "execution_count": 31,
   "id": "46524b9d",
   "metadata": {},
   "outputs": [
    {
     "data": {
      "image/png": "[encoded data removed]",
      "text/plain": [
       "<Figure size 748.797x264.88 with 1 Axes>"
      ]
     },
     "execution_count": 31,
     "metadata": {},
     "output_type": "execute_result"
    }
   ],
   "source": [
    "# Step 3: Alice measures both qubits 0 and 1\n",
    "circuit.barrier()\n",
    "circuit.measure([0, 1], [0, 1]) # results stored in classical bits 0 and 1\n",
    "circuit.draw(output='mpl')"
   ]
  },
  {
   "cell_type": "code",
   "execution_count": 32,
   "id": "2a7b17e8",
   "metadata": {},
   "outputs": [
    {
     "data": {
      "image/png": "[encoded data removed]",
      "text/plain": [
       "<Figure size 929.397x264.88 with 1 Axes>"
      ]
     },
     "execution_count": 32,
     "metadata": {},
     "output_type": "execute_result"
    }
   ],
   "source": [
    "circuit.barrier()\n",
    "# Step 4: Now that Alice has measured the two qubits, their states have collapsed to 0 and 1. \n",
    "# Bob can do operations conditioned on these qubits to his half of the Bell pair\n",
    "# Note that while we're conditioning Bob's operation on the collapsed qubits 0 and 1, we can\n",
    "# do teleportation over long distances by transmitting the classical information in classical bits 0 and 1\n",
    "circuit.cx(1, 2)\n",
    "circuit.cz(0, 2)\n",
    "circuit.draw(output='mpl')"
   ]
  },
  {
   "cell_type": "code",
   "execution_count": 33,
   "id": "bbd44b12",
   "metadata": {},
   "outputs": [
    {
     "data": {
      "image/png": "[encoded data removed]",
      "text/plain": [
       "<Figure size 989.597x264.88 with 1 Axes>"
      ]
     },
     "execution_count": 33,
     "metadata": {},
     "output_type": "execute_result"
    }
   ],
   "source": [
    "# Step 5: Done! Measure Bob's qubit to find out what state it is in\n",
    "circuit.measure([2], [2])\n",
    "circuit.draw(output='mpl')"
   ]
  },
  {
   "cell_type": "code",
   "execution_count": 34,
   "id": "2feedb96",
   "metadata": {},
   "outputs": [
    {
     "data": {
      "image/png": "[encoded data removed]",
      "text/plain": [
       "<Figure size 504x360 with 1 Axes>"
      ]
     },
     "execution_count": 34,
     "metadata": {},
     "output_type": "execute_result"
    }
   ],
   "source": [
    "simulator = Aer.get_backend('qasm_simulator')\n",
    "result = execute(circuit, backend=simulator, shots=1024).result()\n",
    "from qiskit.visualization import plot_histogram\n",
    "counts = result.get_counts(circuit)\n",
    "plot_histogram(counts)"
   ]
  },
  {
   "cell_type": "markdown",
   "id": "0966d04a",
   "metadata": {},
   "source": [
    "Tulosten tulkinta: Pylväsdiagrammin binäärilukujen \"alin bitti\" on rekisteriin 2 tallennettu kubitin 2 tila. Eli kubitin kaksi tila on aina 1 niin kuin oli kubitissa , jonka tilaa haluttiin siirtää."
   ]
  },
  {
   "cell_type": "markdown",
   "id": "c5c307e1",
   "metadata": {},
   "source": [
    "## Tehtävä 4: Arvo lottonumerot kvanttitietokoneella\n",
    "\n",
    "Kvanttitietokoneiden muistissa informaatio on esitetty klassisten bittien sijasta kubittien avulla. Yhden kubitin tila voi olla samanaikaisesti molempien tilojen 0 ja 1 yhdistelmä eli superpositio.\n",
    "\n",
    "$$ \\mid\\psi> = a\\mid0>+b\\mid1> $$\n",
    "\n",
    "Kubitin tilaa havainnollistetaan usein ns. Blochin pallon pinnalle päättyvänä vektorina.  Kun kubittiin operoidaan esimerkiksi kvanttiportilla H, niin päädytään tilanteeseen, jossa yhden kubitin tila on samanaikaisesti olla tilojen 0 ja 1 yhdistelmä:\n",
    "\n",
    "$$ \\mid\\psi> = \\frac{1}{\\sqrt{2}}\\mid0>+\\frac{1}{\\sqrt{2}}\\mid1> $$\n",
    "\n",
    "Alla olevassa koodiesimerkissä käytetään IBM:N qiskit python-kirjaston funktioita ja luodaan 7 kubitin kvanttipiiri.  Kun yksittäistä kubittia operoidaan H-portilla, kubitti siirtyy tilojen 0 ja 1 yhdistelmätilaan. Jos superpositiotila mitataan, on yhtä suuri todennäköisyys mitata bitin arvoksi 0 tai 1. Huomaa, että tilavektorin kärki on tällöin yhtä kaukana pallon molemmista navoista."
   ]
  },
  {
   "cell_type": "code",
   "execution_count": 35,
   "id": "7dbfcdaa",
   "metadata": {},
   "outputs": [],
   "source": [
    "from qiskit import *\n",
    "from qiskit.tools.monitor import job_monitor"
   ]
  },
  {
   "cell_type": "code",
   "execution_count": 36,
   "id": "9de0fc93",
   "metadata": {},
   "outputs": [
    {
     "data": {
      "image/png": "[encoded data removed]",
      "text/plain": [
       "<Figure size 607.43x505.68 with 1 Axes>"
      ]
     },
     "execution_count": 36,
     "metadata": {},
     "output_type": "execute_result"
    }
   ],
   "source": [
    "num_bits = 7\n",
    "num_numbers = 7\n",
    "qr = QuantumRegister(num_bits)\n",
    "cr = ClassicalRegister(num_bits)\n",
    "circuit = QuantumCircuit(qr, cr)\n",
    "\n",
    "for i in range(num_bits):\n",
    "    circuit.h(i)\n",
    "\n",
    "circuit.measure(qr, cr)\n",
    "\n",
    "circuit.draw(output=\"mpl\")"
   ]
  },
  {
   "cell_type": "markdown",
   "id": "1d2cc059",
   "metadata": {},
   "source": [
    "Yllä olevassa kuvassa kubiteilla $0 -6$ on jokaisella 50%:n todennäköisyys asettua mittauksessa lopputilaan $0$ tai $1$. Kun kvanttialgoritmisuoritetaan saadaan tulokseksi satunnainen binääriluku, jossa on $7$ bittiä. Algoritmi simuloidaan tietokoneella hyvin montakertaa ja mittaustuloksina saadut erilaiset 7:n bitin yhdistelmät ja niiden esiintymisfrekvenssit tallennetaan python sanakirjaan. Lottonumeroksi valitaan se binääriluku, jolla on suurin esiintymisfrekvenssi. Jos numero on jo valittu tai numero suurempi kuin 40, niin arvonta suoritetaan uudelleen."
   ]
  },
  {
   "cell_type": "code",
   "execution_count": null,
   "id": "96100bbe",
   "metadata": {},
   "outputs": [],
   "source": [
    "# Voit selvittää mitä palveluita on käytössä\n",
    "#from qiskit import IBMQ, Aer # tämä import suoritettiin jo yllä\n",
    "'''\n",
    "provider = IBMQ.load_account()\n",
    "available_cloud_backends = provider.backends() \n",
    "print('\\nKäytettävissäsi olevat palvelut verkossa: ')\n",
    "for i in available_cloud_backends: print(i)\n",
    "\n",
    "available_local_backends = Aer.backends() \n",
    "print('\\n Paikalliset koneellesi käytössä olevat palvelut: ')\n",
    "for i in available_local_backends: print(i)\n",
    "'''"
   ]
  },
  {
   "cell_type": "code",
   "execution_count": 37,
   "id": "f87a3490",
   "metadata": {},
   "outputs": [],
   "source": [
    "# vaihtoehto 1: Simuloidaan piirin toiminta paikallisesti omalla tietokoneella\n",
    "simulator = Aer.get_backend('qasm_simulator')\n",
    "execute(circuit, backend=simulator)\n",
    "result = execute(circuit, backend=simulator)\n"
   ]
  },
  {
   "cell_type": "code",
   "execution_count": 38,
   "id": "ee896202",
   "metadata": {},
   "outputs": [
    {
     "name": "stdout",
     "output_type": "stream",
     "text": [
      "\r",
      "Job Status: job has successfully run\n",
      "{'1100110': 5, '1011010': 8, '0111110': 3, '1110001': 9, '1101010': 7, '1001101': 6, '1001111': 5, '0011110': 9, '1110111': 7, '1111011': 9, '0100110': 6, '0110110': 7, '1100010': 8, '1101100': 8, '1000100': 10, '0100100': 7, '0101100': 5, '1111110': 10, '0100011': 11, '0100111': 10, '0010000': 7, '1000010': 4, '0111101': 8, '0001100': 5, '0001110': 8, '1000000': 7, '0011010': 8, '1101110': 10, '0111010': 7, '1101001': 5, '0110000': 7, '1001010': 8, '0000110': 7, '0001010': 9, '1000111': 15, '1001000': 8, '0111001': 6, '0010101': 8, '1100000': 7, '0111000': 7, '0000010': 7, '0101011': 7, '1111010': 6, '1101011': 7, '0101000': 6, '1100101': 11, '1011100': 9, '0011111': 10, '0101101': 8, '0110111': 6, '0000000': 11, '0110011': 14, '1111111': 9, '1111100': 7, '1010000': 9, '0111100': 12, '0001000': 12, '0111111': 8, '1010111': 10, '0001101': 10, '1100100': 8, '1101000': 7, '1100111': 6, '1011011': 16, '0000001': 15, '0110010': 12, '1100001': 7, '0100001': 6, '1010001': 5, '1110101': 10, '0000111': 11, '1000101': 4, '0010111': 10, '0100010': 10, '1011101': 9, '1010100': 3, '1110010': 12, '1110000': 5, '1000011': 6, '0010001': 6, '0110001': 7, '0011101': 9, '1011000': 4, '1000001': 6, '1010101': 12, '1111001': 7, '0000100': 7, '0001011': 8, '0001001': 6, '1010011': 7, '0011011': 13, '0011100': 7, '0101010': 5, '0101001': 8, '1111000': 6, '1101101': 4, '0111011': 6, '0101110': 5, '0110100': 9, '1001011': 14, '1110100': 8, '1100011': 9, '1000110': 8, '0010100': 8, '0101111': 11, '0011001': 8, '1110011': 10, '1110110': 12, '1001100': 3, '1010010': 7, '0100000': 8, '0010110': 7, '0011000': 12, '1011110': 11, '1010110': 8, '1001001': 6, '0010011': 7, '1111101': 6, '1101111': 7, '0110101': 14, '0001111': 4, '0100101': 7, '0000011': 10, '1011001': 7, '1001110': 7, '0000101': 7, '1011111': 10, '0010010': 4}\n"
     ]
    }
   ],
   "source": [
    "job_monitor(result)\n",
    "print(result.result().get_counts())"
   ]
  },
  {
   "cell_type": "code",
   "execution_count": 41,
   "id": "5c0e318b",
   "metadata": {},
   "outputs": [
    {
     "name": "stdout",
     "output_type": "stream",
     "text": [
      "127\n"
     ]
    }
   ],
   "source": [
    "print(0b1111111)"
   ]
  },
  {
   "cell_type": "code",
   "execution_count": 43,
   "id": "4e340816",
   "metadata": {},
   "outputs": [],
   "source": [
    "def lotto(circuit, simulator):\n",
    "    \n",
    "    r = execute(circuit, backend=simulator).result()\n",
    "    numerot = {}\n",
    "    \n",
    "    max_value = 0\n",
    "    max_key = 0\n",
    "    isMaxUnique = True\n",
    "    \n",
    "    for key, value in r.get_counts().items():\n",
    "        if value > max_value:\n",
    "            max_value = value\n",
    "            max_key = key\n",
    "            isMaxUnique = True\n",
    "        elif value == max_value:\n",
    "            isMaxUnique = False\n",
    "    \n",
    "    # Jos saadaan tulokseksi 0 tai yli 40, heitetään uudelleen.\n",
    "    # Myös jos on kaksi yhtä todennäköistä vastausta, joudutaan heittämään uudelleen\n",
    "    \n",
    "    if not isMaxUnique or int(max_key,2)  == 0 or int(max_key,2) > 40:\n",
    "        return lotto(circuit, simulator)\n",
    "    \n",
    "    return int(max_key, 2)"
   ]
  },
  {
   "cell_type": "code",
   "execution_count": 44,
   "id": "6072d692",
   "metadata": {},
   "outputs": [
    {
     "name": "stdout",
     "output_type": "stream",
     "text": [
      "8\n"
     ]
    }
   ],
   "source": [
    "# testataan, arvotaan yksi lottopallo väliltä 1 - 40\n",
    "print(lotto(circuit, simulator))"
   ]
  },
  {
   "cell_type": "code",
   "execution_count": 45,
   "id": "3c0ce7d8",
   "metadata": {},
   "outputs": [
    {
     "name": "stdout",
     "output_type": "stream",
     "text": [
      "[26]\n",
      "[26, 2]\n",
      "[26, 2, 3]\n",
      "[26, 2, 3, 35]\n",
      "[26, 2, 3, 35, 18]\n",
      "[26, 2, 3, 35, 18, 14]\n",
      "[26, 2, 3, 35, 18, 14, 21]\n",
      "arvotut numerot ovat:  [2, 3, 14, 18, 21, 26, 35]\n"
     ]
    }
   ],
   "source": [
    "# Arvotaan 7 oikein numerot\n",
    "numbers = []\n",
    "while len(numbers) < num_numbers:\n",
    "    number = lotto(circuit, simulator)\n",
    "    if number not in numbers:\n",
    "        numbers.append(number)\n",
    "        print(numbers)\n",
    "        \n",
    "numbers.sort()\n",
    "print(\"arvotut numerot ovat: \", numbers)"
   ]
  },
  {
   "cell_type": "code",
   "execution_count": null,
   "id": "b1b1e535",
   "metadata": {},
   "outputs": [],
   "source": []
  }
 ],
 "metadata": {
  "kernelspec": {
   "display_name": "Python 3 (ipykernel)",
   "language": "python",
   "name": "python3"
  },
  "language_info": {
   "codemirror_mode": {
    "name": "ipython",
    "version": 3
   },
   "file_extension": ".py",
   "mimetype": "text/x-python",
   "name": "python",
   "nbconvert_exporter": "python",
   "pygments_lexer": "ipython3",
   "version": "3.10.0"
  }
 },
 "nbformat": 4,
 "nbformat_minor": 5
}
