{
 "cells": [
  {
   "cell_type": "markdown",
   "id": "c2c08208",
   "metadata": {},
   "source": [
    "## Kvanttilaskenta 2022 laskuharjoitukset kierros 3\n",
    "\n",
    "$$\\newcommand{\\ket}[1]{\\left|{#1}\\right\\rangle}$$\n",
    "$$\\newcommand{\\bra}[1]{\\left\\langle{#1}\\right|}$$\n",
    "\n",
    "\n",
    "\n",
    "Kierroksen kolme tehtävissä eräänä tavoitteena on tutkia miten erilaisten kvanttiporttien operaatiot vaikuttavat kubitin kvanttitilaa esittävään tilavektoriin Blochin pallolla. Sen takia on tärkeää tutkia tehtävien ratkaisuja myös <a href=\"https://bloch.ollpu.fi/\" target=\"_blank\">Blochin palloa kuvaavan simulaation avulla.</a>. "
   ]
  },
  {
   "cell_type": "markdown",
   "id": "1d9aae29",
   "metadata": {},
   "source": [
    "## Johdanto tehtävävään 1, eli painotetun kolikon heitto ja z-akselin ympäri tapahtuva kierto\n",
    "\n",
    "Tarkastellaan yhden kubitin kvanttipiiriä, jonka avulla halutaan toteuttaa kruuna (kubitin tila |1>) klaava ( kubitin tila |0>) kolikonheitto siten, että lopputuloksen |1> todennäköisyys on $\\frac{2}{3}$ ja tilan |0> todennäköisyys $\\frac{1}{3}$. Olkoon kubitin alkutila $1\\cdot|0>+ 0\\cdot|1>$.\n",
    "\n",
    "Kubitin tilan mittaustulosta eli arvojen |0>  tai  |1> esiintymistodennäköisyyksiä voidaan muuttaa ja säätää halutuksi $R_y$-kvanttiportilla, joka vastaa kubitin kiertoa Blochin pallolla y-akselin ympäri. Kun alkutilassa |0> olevaa kubittia kierretään $R_y$-portilla, muuttuvat samalla kubitin tilavektorin kertoimet eli todennäköisyydet. Esimerkiksi, jos kubitin tila $R_y$-kierron jälkeen on $\\frac{\\sqrt{6}}{3} |0>+ \\frac{1}{\\sqrt{3}}|1>$, niin\n",
    "\n",
    "\n",
    "\n",
    "tarkoittaa tämä, että kubitin tilavektorin kärki on Blochin pallolla ”lähempänä” tilaa |0> ja lopputilojen todennäköisyydet\n",
    "\n",
    "$P(0)=(\\frac{\\sqrt{6}}{3})^2 = \\frac{2}{3}$ ja $P(1)=(\\frac{1}{\\sqrt{3}})^2 = \\frac{1}{3}$. Mohdollisten tilojen  todennäköisyyksien summa säilyy: $P(0)+P(1)=\\frac{2}{3} +\\frac{1}{3} = 1 $.\n",
    "\n",
    "\n",
    "\n",
    "\n",
    "Ry-porttin vaikutus pystyvektorin tilaan voidaan kuvata kiertomatriisilla:\n",
    "![Ry_matriisi](images/Ry_matriisi.png)\n",
    "\n",
    "missä kulma $\\theta$ ilmaisee kuinka suuri kierto on tehty y-akselin ympäri. Operoidaan Ry-kiertomatriisilla kubitin alkutilaan |0>:\n",
    "![Ry_tulo](images/Ry_tulo.png)\n",
    "\n",
    "Kierron jälkeen kubitin tila voidaan esittää siis muodossa\n",
    "![state3](images/state3.png)\n",
    "\n",
    "Nyt voidaan ratkaista kiertokulma $\\theta$ kubitin tilojen |0> ja |1>  todennäköisyyksistä\n",
    "![Ry_tn](images/Ry_tn.png)\n",
    "\n",
    "eli \n",
    "\n",
    "![Ry_tn3](images/Ry_tn3.png)\n",
    "\n",
    "Ry-portilla toteutetaan siis 1.91 radiaanin eli  109 asteen kierto y-akselin ympäri. Asteiden ja radiaanien välinen yhteys $180°\\ =\\ \\pi\\ rad$ eli $1\\ rad\\ =\\ \\frac{180°}{\\pi}$.\n",
    "\n",
    "Alla on esimerkin yhden kubitin piirin toteutus pyhtonilla. Koodissa luodaan yhden kubitin kvanttipiiri, kierrettään tilavektoria ja simuloidaan piirin toiminta. Lopuksi piirretään mittaustulosten todennäköisyyjakauma. $R_y$ portin toteutus qiskitissä on metodi `circuit.ry(theta)`."
   ]
  },
  {
   "cell_type": "code",
   "execution_count": null,
   "id": "a4683825",
   "metadata": {},
   "outputs": [],
   "source": [
    "from qiskit import *\n",
    "import math\n",
    "\n",
    "# Luodaan kvanttipiiri muuttujaan circ, jossa on yksi kubitti (diagrammissa q).\n",
    "quantum_register = QuantumRegister(1)\n",
    "classical_register = ClassicalRegister(1)\n",
    "circuit = QuantumCircuit(quantum_register, classical_register)  # kubitin alkutila on |0>"
   ]
  },
  {
   "cell_type": "code",
   "execution_count": null,
   "id": "5abecba5",
   "metadata": {},
   "outputs": [],
   "source": [
    "circuit.ry(2 * math.asin(math.sqrt(2/3)), 0)"
   ]
  },
  {
   "cell_type": "code",
   "execution_count": null,
   "id": "8e1fb55e",
   "metadata": {},
   "outputs": [],
   "source": [
    "circuit.measure(quantum_register, classical_register)\n",
    "simulator = Aer.get_backend('qasm_simulator')\n",
    "execute(circuit, backend=simulator)\n",
    "result = execute(circuit, backend=simulator).result()\n",
    "from qiskit.tools.visualization import plot_histogram\n",
    "plot_histogram(result.get_counts(circuit))"
   ]
  },
  {
   "cell_type": "markdown",
   "id": "eaf92fdb",
   "metadata": {},
   "source": [
    "## Tehtävä 1\n",
    "\n",
    "a) Mihin kulmaan kubitin tilavektori on kierrettävä $R_y$-portilla, jos lopputilan |1> todennäköisyydeksi halutaan $\\frac{3}{4}$?\n",
    "\n",
    "b) Simuloi a-kohdan piirin toiminta ja piirrä todennäköisyysjakauma pylväsdiagrammina. Voit käyttää yllä olevaa mallikoodia apunasi. Muuta kierron arvoa."
   ]
  },
  {
   "cell_type": "code",
   "execution_count": null,
   "id": "c0064a17",
   "metadata": {},
   "outputs": [],
   "source": [
    "# Tehtävä 1, ohjelmoi tähän"
   ]
  },
  {
   "cell_type": "markdown",
   "id": "b2786d45",
   "metadata": {},
   "source": [
    "## Kertausta kierrokselta 2: Lomittuminen (entanglement) ja CNOT-portti\n",
    "\n",
    "Tehtävät 1 - 3 käsittelivät yhden kubitin systeemiä. Seuraavassa kahdessa tehtävässä tarkastelemme controlled NOT -porttia ($\\mathit{CNOT}$), joka on kahden kubitin välinen operaatio. Kahden kubitin kvanttipiirissä systeemin tila esitetään seuraavilla kantavektoreilla:\n",
    "\n",
    "$$\n",
    "\\ket{00},\\ \\ket{01},\\ \\ket{10},\\ \\ket{11}, \n",
    "$$\n",
    "\n",
    "missä \n",
    "\n",
    "$$\n",
    "\\ket{00}=\\pmatrix{1 \\\\ 0 \\\\ 0 \\\\0},\\ \\ket{01}=\\pmatrix{0 \\\\ 1 \\\\ 0 \\\\0},\\ \n",
    "\\ket{10}=\\pmatrix{0 \\\\ 0 \\\\ 1 \\\\0},\\ \\ket{11}=\\pmatrix{0 \\\\ 0 \\\\ 0 \\\\1}.\n",
    "$$\n",
    "\n",
    "$\\mathit{CNOT}$-portin operoidessa ensimmäinen qubitti on ns. ohjaava kubitti (control qubi1t), ja jälkimmäinen on kohdekubitti (target qubit). $\\mathit{CNOT}$ vaikuttaa koko systeemin tilaan seuraavasti:\n",
    "\n",
    "$$\n",
    "\\ket{00} \\rightarrow  \\ket{00}   \\\\\n",
    "\\ket{01} \\rightarrow  \\ket{01}   \\\\\n",
    "\\ket{10} \\rightarrow  \\ket{11}   \\\\\n",
    "\\ket{11} \\rightarrow  \\ket{10}   \\\\\n",
    "$$\n",
    "\n",
    "Tulos tarkoittaa, että jos ensimmäinen, ns. ohjaava kubitti on $0$, niin kohdekubitin tila ei muutu. Jos ohjaavakubitti $1$, niin kohdekubitin tila muuttuu. \n",
    "\n",
    "$\\mathit{CNOT}$-portin matriisiesitys on seuraava:\n",
    "\n",
    "$$\n",
    "\\mathit{CNOT} = \\pmatrix {1 & 0 & 0 & 0 \\\\ 0 & 1 & 0 & 0\\\\ 0 & 0 & 0 & 1 \\\\ 0 & 0 & 1 & 0} \n",
    "$$\n",
    "\n",
    "Huomaa, että vaikka matriisia merkitään monella kirjaimella, se ei ole monen matriisin tulo.\n",
    "\n",
    "Piirrosmerkki, jossa ylempänä esitetty kubitti on ohjaava, ja alempi toimii kohteena:\n",
    "\n",
    "![cnot](https://ollpu.fi/kvanttilaskenta-static/cnot.png)\n",
    "\n"
   ]
  },
  {
   "cell_type": "markdown",
   "id": "fd6a5bb0",
   "metadata": {},
   "source": [
    "## Conditional-phase gate eli ehdollinen cz-vaiheporttti kahden kubitin systeemissä\n",
    "\n",
    "Toiminta: cz-portti flippaa kohdekubitin (target) vain jos ohjaavakubitti (control) on tilassa $\\ket 1$. CZ-portti on symmetrinen, eli kumpitahansa qubiteista voi toimia kontrollikubittina. Vaiheen voi ajatella kubitin tilavektorin asentona Blochin pallolla.\n",
    "\n",
    "\n",
    "$\\mathit{CZ}$-portin matriisiesitys on seuraava:\n",
    "\n",
    "$$\n",
    "\\mathit{CZ} = \\pmatrix {1 & 0 & 0 & 0 \\\\ 0 & 1 & 0 & 0\\\\ 0 & 0 & 1 & 0 \\\\ 0 & 0 & 0 & -1} \n",
    "$$\n",
    "\n",
    "\n",
    "Piirrosmerkki,josta näkyy symmetrisyys.\n",
    "\n",
    "![cz-piirrosmerkki](images/cz-piirrosmerkki.png)\n",
    "\n",
    "\n",
    "<a href =\"https://scribe.rip/@minatoyuichiro/learning-about-quantum-cz-gate-446c05b47ef9\" target =\"_blank\"> Tutustu tarkemmin CZ-portin toimintaan tästä linkistä! </a>\n"
   ]
  },
  {
   "cell_type": "code",
   "execution_count": null,
   "id": "f0920c0f",
   "metadata": {},
   "outputs": [],
   "source": [
    "## Tehtävä 2 CZ-portti"
   ]
  },
  {
   "cell_type": "markdown",
   "id": "33714581",
   "metadata": {},
   "source": [
    "## Tehtävä 3\n",
    "Tehtävässä kaksi tutustutaan yleiseen kvanttipiirin avulla toteutettuun kvanttitilan teleportaatioon.\n",
    "\n",
    "### Quantum teleportation eli kvanttiteleportaatio ja kubittien lomittuminen\n",
    "Kvanttiteleportaation avulla voidaan siirtää kubitin tila fyysisesti kauas tietyillä esivalmisteluilla. Kvanttiteleportaatio perustuu kubittien lomittumiseen, eli kubittien väliseen kytkentään kvanttisysteemissä.\n",
    "\n",
    "![teleportation](images/teleportation.png)\n",
    "\n",
    "Kuvan kvanttipiirissä siirretään kubitin 0 tila kubitiin 2, paikasta A paikkaan B. Alla aiheesta tutoriaalivideo.\n",
    "\n",
    "Ensin luodaan kubitin 1 ja 2 välille ns. Bellin pari eli lomitus Hadamard- ja CNOT-porttien avulla. Tämä pari luodaan esimerkiksi paikassa A, jonka jälkeen kubitti 2 siiretään fysisesti paikkaan B. \n",
    "\n",
    "Kun kubitin 0 tila halutaan siirtää kubitiin 2, niin paikassa A suoritetaan sarja operaatiota kubiteille 0 ja 1.  \n",
    "\n",
    "Kubittien 0 ja 1 tilat mitatataan ja klassiset mittaustulokset lähetetään paikkaan B.\n",
    "\n",
    "Mittaustuloksista riippuen paikassa B tehdään eri sarja operaatioita kubitille 2. Lopputuloksena kubitin 2 tila on sama kuin kubitin 0 alkuperäinen tila.\n",
    "\n",
    "\n",
    "a) Katso tutoriaalivideo ja rakenna 3:n kubitin systeemi. Simuloi piirin toiminta.\n",
    "\n",
    "Tutoriaalivideo:\n",
    "<a href=\"https://youtu.be/mMwovHK2NrE\" target=\"_blank\">Kvanttiteleportaation qiskit-tutoriaali</a>\n",
    "\n",
    "Videossa lähetetään ensin tila $\\ket 1$ kubitista 0 kubittiin 2. Tämä tila saadaan aikaan yhdellä X-portilla alussa.\n",
    "\n",
    "Lopun mittaustuloksissa nähdään ainoastaan tiloja, joissa kubitti 2 (binäärimerkkijonon ensimmäinen merkki) on 1, eli tila näyttäisi siirtyneen oikein. Muut kaksi bittiä ovat sattumanvaraisia.\n",
    "\n",
    "b) Luo piiri uudestaan erilaisella alkutilalla, ja tutki tuloksia.\n",
    "Jos muokkaat alkuperäistä koodia, aja jokainen solu uudestaan järjestyksessä, jotta saat uuden piirin.\n",
    "\n",
    "Kirjaa saamasi tulokset muistiin esimerkiksi alle.\n",
    "\n",
    "**OHJE:**\n",
    "Jos sinulla on vaikeuksia koodata tutoriaalivideon avulla, niin voit käyttää apuna alla olevissa koodisolouissa olevaa valmista koodia."
   ]
  },
  {
   "cell_type": "code",
   "execution_count": null,
   "id": "9743d10c",
   "metadata": {},
   "outputs": [],
   "source": [
    "from qiskit import *\n",
    "# QUBIT ORDERING\n",
    "# q0 = State |psi> that we want to teleport\n",
    "# q1 = Alice's half of the Bell pair\n",
    "# q2 = Bob's half of the Bell pair, the destination of the teleportation\n",
    "\n",
    "circuit = QuantumCircuit(3,3)\n",
    "%matplotlib inline\n",
    "circuit.draw(output='mpl')"
   ]
  },
  {
   "cell_type": "code",
   "execution_count": null,
   "id": "40918d64",
   "metadata": {},
   "outputs": [],
   "source": [
    "# Step 0: Create the state to be teleported in qubit 0\n",
    "circuit.x(0) # qubit 0 is now in state |1>, and this is the state that we want to teleport\n",
    "circuit.barrier()\n",
    "circuit.draw(output='mpl')"
   ]
  },
  {
   "cell_type": "code",
   "execution_count": null,
   "id": "c1a2cc02",
   "metadata": {},
   "outputs": [],
   "source": [
    "# Step 1: create an entangled Bell pair between Alice and Bob (qubits 1 and 2)\n",
    "circuit.h(1)\n",
    "circuit.cx(1,2)\n",
    "circuit.draw(output='mpl')"
   ]
  },
  {
   "cell_type": "code",
   "execution_count": null,
   "id": "9242fd1b",
   "metadata": {},
   "outputs": [],
   "source": [
    "circuit.cx(0,1)\n",
    "circuit.h(0)\n",
    "circuit.draw(output='mpl')"
   ]
  },
  {
   "cell_type": "code",
   "execution_count": null,
   "id": "46524b9d",
   "metadata": {},
   "outputs": [],
   "source": [
    "# Step 3: Alice measures both qubits 0 and 1\n",
    "circuit.barrier()\n",
    "circuit.measure([0, 1], [0, 1]) # results stored in classical bits 0 and 1\n",
    "circuit.draw(output='mpl')"
   ]
  },
  {
   "cell_type": "code",
   "execution_count": null,
   "id": "2a7b17e8",
   "metadata": {},
   "outputs": [],
   "source": [
    "circuit.barrier()\n",
    "# Step 4: Now that Alice has measured the two qubits, their states have collapsed to 0 and 1. \n",
    "# Bob can do operations conditioned on these qubits to his half of the Bell pair\n",
    "# Note that while we're conditioning Bob's operation on the collapsed qubits 0 and 1, we can\n",
    "# do teleportation over long distances by transmitting the classical information in classical bits 0 and 1\n",
    "circuit.cx(1, 2)\n",
    "circuit.cz(0, 2)\n",
    "circuit.draw(output='mpl')"
   ]
  },
  {
   "cell_type": "code",
   "execution_count": null,
   "id": "bbd44b12",
   "metadata": {},
   "outputs": [],
   "source": [
    "# Step 5: Done! Measure Bob's qubit to find out what state it is in\n",
    "circuit.measure([2], [2])\n",
    "circuit.draw(output='mpl')"
   ]
  },
  {
   "cell_type": "code",
   "execution_count": null,
   "id": "2feedb96",
   "metadata": {},
   "outputs": [],
   "source": [
    "simulator = Aer.get_backend('qasm_simulator')\n",
    "result = execute(circuit, backend=simulator, shots=1024).result()\n",
    "from qiskit.visualization import plot_histogram\n",
    "counts = result.get_counts(circuit)\n",
    "plot_histogram(counts)"
   ]
  },
  {
   "cell_type": "markdown",
   "id": "0966d04a",
   "metadata": {},
   "source": [
    "Tulosten tulkinta: Pylväsdiagrammin binäärilukujen \"alin bitti\" on rekisteriin 2 tallennettu kubitin 2 tila. Eli kubitin kaksi tila on aina 1 niin kuin oli kubitissa , jonka tilaa haluttiin siirtää."
   ]
  }
 ],
 "metadata": {
  "kernelspec": {
   "display_name": "Python 3 (ipykernel)",
   "language": "python",
   "name": "python3"
  },
  "language_info": {
   "codemirror_mode": {
    "name": "ipython",
    "version": 3
   },
   "file_extension": ".py",
   "mimetype": "text/x-python",
   "name": "python",
   "nbconvert_exporter": "python",
   "pygments_lexer": "ipython3",
   "version": "3.10.0"
  }
 },
 "nbformat": 4,
 "nbformat_minor": 5
}
